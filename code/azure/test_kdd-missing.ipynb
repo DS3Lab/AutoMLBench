{
  "cells": [
    {
      "cell_type": "code",
      "source": [
        "import json\n",
        "import numpy as np\n",
        "import pandas as pd\n",
        "\n",
        "import os\n",
        "from sklearn.externals import joblib\n",
        "\n",
        "\n",
        "def init(model_path=\"model.pkl\"):\n",
        "    global model\n",
        "    model = joblib.load(model_path)\n",
        "\n",
        "def predict(data):\n",
        "    try:\n",
        "        #data = np.array(json.loads(data))\n",
        "        result = model.predict(data)\n",
        "        # You can return any data type, as long as it is JSON serializable.\n",
        "        return result\n",
        "    except Exception as e:\n",
        "        error = str(e)\n",
        "        return error\n",
        "\n",
        "\n",
        "def predict_proba(data):\n",
        "    try:\n",
        "        #data = np.array(json.loads(data))\n",
        "        result = model.predict_proba(data)\n",
        "        # You can return any data type, as long as it is JSON serializable.\n",
        "        return result\n",
        "    except Exception as e:\n",
        "        error = str(e)\n",
        "        return error"
      ],
      "outputs": [
        {
          "output_type": "stream",
          "name": "stderr",
          "text": [
            "/anaconda/envs/azureml_py36/lib/python3.6/site-packages/sklearn/externals/joblib/__init__.py:15: FutureWarning: sklearn.externals.joblib is deprecated in 0.21 and will be removed in 0.23. Please import this functionality directly from joblib, which can be installed with: pip install joblib. If this warning is raised when loading pickled models, you may need to re-serialize those models with scikit-learn 0.21+.\n",
            "  warnings.warn(msg, category=FutureWarning)\n"
          ]
        }
      ],
      "execution_count": 1,
      "metadata": {
        "collapsed": true,
        "jupyter": {
          "source_hidden": false,
          "outputs_hidden": false
        },
        "nteract": {
          "transient": {
            "deleting": false
          }
        },
        "gather": {
          "logged": 1617964714277
        }
      }
    },
    {
      "cell_type": "code",
      "source": [
        "init(\"kdd_missing_model.pkl\")\n",
        "\n",
        "target = \"is_exciting_20\"\n",
        "\n",
        "test_df = pd.read_csv(\"test_kdd_missing.csv\")\n",
        "y_true = test_df[target]\n",
        "\n",
        "y_pred = predict(test_df.drop([target],axis=1))\n",
        "\n",
        "print(\"accuracy:\")\n",
        "print(np.mean(y_pred==y_true))\n",
        "\n",
        "\n",
        "from sklearn import metrics\n",
        "\n",
        "y_pred_prob = predict_proba(test_df.drop([target],axis=1))\n",
        "\n",
        "print(y_pred_prob[:,1])\n",
        "\n",
        "fpr, tpr, thresholds = metrics.roc_curve(y_true, y_pred_prob[:,1], pos_label=1)\n",
        "print(\"auc:\")\n",
        "print(metrics.auc(fpr, tpr))"
      ],
      "outputs": [
        {
          "output_type": "stream",
          "name": "stdout",
          "text": [
            "accuracy:\n",
            "0.8903017843092464\n",
            "[0.13375301 0.13230522 0.05610175 ... 0.16396875 0.11249833 0.04186081]\n",
            "auc:\n",
            "0.7030431774232341\n"
          ]
        }
      ],
      "execution_count": 2,
      "metadata": {
        "collapsed": true,
        "jupyter": {
          "source_hidden": false,
          "outputs_hidden": false
        },
        "nteract": {
          "transient": {
            "deleting": false
          }
        },
        "gather": {
          "logged": 1617964957017
        }
      }
    }
  ],
  "metadata": {
    "kernelspec": {
      "name": "python3-azureml",
      "language": "python",
      "display_name": "Python 3.6 - AzureML"
    },
    "language_info": {
      "name": "python",
      "version": "3.6.9",
      "mimetype": "text/x-python",
      "codemirror_mode": {
        "name": "ipython",
        "version": 3
      },
      "pygments_lexer": "ipython3",
      "nbconvert_exporter": "python",
      "file_extension": ".py"
    },
    "kernel_info": {
      "name": "python3-azureml"
    },
    "microsoft": {
      "host": {
        "AzureML": {
          "notebookHasBeenCompleted": true
        }
      }
    },
    "nteract": {
      "version": "nteract-front-end@1.0.0"
    }
  },
  "nbformat": 4,
  "nbformat_minor": 2
}