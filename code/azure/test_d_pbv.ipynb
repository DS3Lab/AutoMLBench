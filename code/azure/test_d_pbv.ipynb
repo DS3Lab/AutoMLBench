{
  "cells": [
    {
      "cell_type": "code",
      "source": [
        "import json\n",
        "import numpy as np\n",
        "import pandas as pd\n",
        "\n",
        "import os\n",
        "from sklearn.externals import joblib\n",
        "\n",
        "\n",
        "def init(model_path=\"model.pkl\"):\n",
        "    global model\n",
        "    model = joblib.load(model_path)\n",
        "\n",
        "def predict(data):\n",
        "    try:\n",
        "        #data = np.array(json.loads(data))\n",
        "        result = model.predict(data)\n",
        "        # You can return any data type, as long as it is JSON serializable.\n",
        "        return result\n",
        "    except Exception as e:\n",
        "        error = str(e)\n",
        "        return error\n",
        "\n",
        "\n",
        "def predict_proba(data):\n",
        "    try:\n",
        "        #data = np.array(json.loads(data))\n",
        "        result = model.predict_proba(data)\n",
        "        # You can return any data type, as long as it is JSON serializable.\n",
        "        return result\n",
        "    except Exception as e:\n",
        "        error = str(e)\n",
        "        return error"
      ],
      "outputs": [
        {
          "output_type": "stream",
          "name": "stderr",
          "text": [
            "/anaconda/envs/azureml_py36/lib/python3.6/site-packages/sklearn/externals/joblib/__init__.py:15: FutureWarning: sklearn.externals.joblib is deprecated in 0.21 and will be removed in 0.23. Please import this functionality directly from joblib, which can be installed with: pip install joblib. If this warning is raised when loading pickled models, you may need to re-serialize those models with scikit-learn 0.21+.\n",
            "  warnings.warn(msg, category=FutureWarning)\n"
          ]
        }
      ],
      "execution_count": 1,
      "metadata": {
        "collapsed": true,
        "jupyter": {
          "source_hidden": false,
          "outputs_hidden": false
        },
        "nteract": {
          "transient": {
            "deleting": false
          }
        },
        "gather": {
          "logged": 1616704987750
        }
      }
    },
    {
      "cell_type": "code",
      "source": [
        "id_name = 'activity_id'\n",
        "target = \"outcome\"\n",
        "model_path = \"d_pbv_model.pkl\"\n",
        "test_file = \"test_d_pbv.csv\"\n",
        "\n",
        "init(model_path)\n",
        "\n",
        "test_df = pd.read_csv(test_file)\n",
        "y_true = test_df[target]\n",
        "\n",
        "y_pred = predict(test_df.drop([target],axis=1))\n",
        "\n",
        "print(\"accuracy:\")\n",
        "print(np.mean(y_pred==y_true))\n",
        "\n",
        "\n",
        "from sklearn import metrics\n",
        "\n",
        "y_pred_prob = predict_proba(test_df.drop([target],axis=1))\n",
        "\n",
        "fpr, tpr, thresholds = metrics.roc_curve(y_true, y_pred_prob[:,1], pos_label=1)\n",
        "print(\"auc:\")\n",
        "print(metrics.auc(fpr, tpr))"
      ],
      "outputs": [
        {
          "output_type": "stream",
          "name": "stdout",
          "text": [
            "accuracy:\n",
            "0.6202794338506349\n",
            "auc:\n",
            "0.6897163430903834\n"
          ]
        }
      ],
      "execution_count": 2,
      "metadata": {
        "collapsed": true,
        "jupyter": {
          "source_hidden": false,
          "outputs_hidden": false
        },
        "nteract": {
          "transient": {
            "deleting": false
          }
        },
        "gather": {
          "logged": 1616705019901
        }
      }
    },
    {
      "cell_type": "code",
      "source": [
        "## predcict test dataset on Kaggle\n",
        "\n",
        "kaggle_submit_head = [id_name, target]\n",
        "\n",
        "kaggle_test_file = \"kaggle-test-d_pbv.csv\"\n",
        "kaggle_pred_file = \"kaggle-test-d_pbv-predictions.csv\"\n",
        "\n",
        "kaggle_test_df = pd.read_csv(kaggle_test_file)\n",
        "kaggle_test_id = np.array(kaggle_test_df[id_name])\n",
        "print(kaggle_test_df.head())\n",
        "print(kaggle_test_df.shape)\n",
        "\n",
        "kaggle_y_pred = predict(kaggle_test_df)"
      ],
      "outputs": [
        {
          "output_type": "stream",
          "name": "stdout",
          "text": [
            "    people_id   activity_id        date activity_category   char_1   char_2  \\\n",
            "0  ppl_100004   act1_249281  2022-07-20            type 1   type 5  type 10   \n",
            "1  ppl_100004   act2_230855  2022-07-20            type 5      NaN      NaN   \n",
            "2   ppl_10001   act1_240724  2022-10-14            type 1  type 12   type 1   \n",
            "3   ppl_10001    act1_83552  2022-11-27            type 1  type 20  type 10   \n",
            "4   ppl_10001  act2_1043301  2022-10-15            type 5      NaN      NaN   \n",
            "\n",
            "   char_3  char_4  char_5  char_6  char_7   char_8   char_9    char_10  \n",
            "0  type 5  type 1  type 6  type 1  type 1   type 7   type 4        NaN  \n",
            "1     NaN     NaN     NaN     NaN     NaN      NaN      NaN   type 682  \n",
            "2  type 5  type 4  type 6  type 1  type 1  type 13  type 10        NaN  \n",
            "3  type 5  type 4  type 6  type 1  type 1   type 5   type 5        NaN  \n",
            "4     NaN     NaN     NaN     NaN     NaN      NaN      NaN  type 3015  \n",
            "(498687, 14)\n"
          ]
        }
      ],
      "execution_count": 3,
      "metadata": {
        "collapsed": true,
        "jupyter": {
          "source_hidden": false,
          "outputs_hidden": false
        },
        "nteract": {
          "transient": {
            "deleting": false
          }
        },
        "gather": {
          "logged": 1616705423287
        }
      }
    },
    {
      "cell_type": "code",
      "source": [
        "print(kaggle_test_id.shape)\n",
        "\n",
        "assert kaggle_y_pred.shape == kaggle_test_id.shape\n",
        "\n",
        "kaggle_pred_df = pd.DataFrame({kaggle_submit_head[0]: kaggle_test_id, kaggle_submit_head[1]: kaggle_y_pred})\n",
        "\n",
        "print(kaggle_pred_df.head())\n",
        "\n",
        "kaggle_pred_df.to_csv(kaggle_pred_file, index=False)"
      ],
      "outputs": [
        {
          "output_type": "stream",
          "name": "stdout",
          "text": [
            "(498687,)\n",
            "    activity_id  outcome\n",
            "0   act1_249281        0\n",
            "1   act2_230855        0\n",
            "2   act1_240724        1\n",
            "3    act1_83552        0\n",
            "4  act2_1043301        1\n"
          ]
        }
      ],
      "execution_count": 4,
      "metadata": {
        "collapsed": true,
        "jupyter": {
          "source_hidden": false,
          "outputs_hidden": false
        },
        "nteract": {
          "transient": {
            "deleting": false
          }
        },
        "gather": {
          "logged": 1616705456899
        }
      }
    }
  ],
  "metadata": {
    "kernelspec": {
      "name": "python3-azureml",
      "language": "python",
      "display_name": "Python 3.6 - AzureML"
    },
    "language_info": {
      "name": "python",
      "version": "3.6.9",
      "mimetype": "text/x-python",
      "codemirror_mode": {
        "name": "ipython",
        "version": 3
      },
      "pygments_lexer": "ipython3",
      "nbconvert_exporter": "python",
      "file_extension": ".py"
    },
    "kernel_info": {
      "name": "python3-azureml"
    },
    "microsoft": {
      "host": {
        "AzureML": {
          "notebookHasBeenCompleted": true
        }
      }
    },
    "nteract": {
      "version": "nteract-front-end@1.0.0"
    }
  },
  "nbformat": 4,
  "nbformat_minor": 2
}