{
  "cells": [
    {
      "cell_type": "code",
      "source": [
        "import json\n",
        "import numpy as np\n",
        "import pandas as pd\n",
        "\n",
        "import os\n",
        "from sklearn.externals import joblib\n",
        "\n",
        "\n",
        "def init(model_path=\"model.pkl\"):\n",
        "    global model\n",
        "    model = joblib.load(model_path)\n",
        "\n",
        "\n",
        "def predict(data):\n",
        "    try:\n",
        "        #data = np.array(json.loads(data))\n",
        "        result = model.predict(data)\n",
        "        # You can return any data type, as long as it is JSON serializable.\n",
        "        return result\n",
        "    except Exception as e:\n",
        "        error = str(e)\n",
        "        return error\n",
        "\n",
        "\n",
        "def predict_proba(data):\n",
        "    try:\n",
        "        #data = np.array(json.loads(data))\n",
        "        result = model.predict_proba(data)\n",
        "        # You can return any data type, as long as it is JSON serializable.\n",
        "        return result\n",
        "    except Exception as e:\n",
        "        error = str(e)\n",
        "        return error\n"
      ],
      "outputs": [
        {
          "output_type": "stream",
          "name": "stderr",
          "text": [
            "/anaconda/envs/azureml_py36/lib/python3.6/site-packages/sklearn/externals/joblib/__init__.py:15: FutureWarning: sklearn.externals.joblib is deprecated in 0.21 and will be removed in 0.23. Please import this functionality directly from joblib, which can be installed with: pip install joblib. If this warning is raised when loading pickled models, you may need to re-serialize those models with scikit-learn 0.21+.\n",
            "  warnings.warn(msg, category=FutureWarning)\n"
          ]
        }
      ],
      "execution_count": 4,
      "metadata": {
        "collapsed": true,
        "jupyter": {
          "source_hidden": false,
          "outputs_hidden": false
        },
        "nteract": {
          "transient": {
            "deleting": false
          }
        },
        "gather": {
          "logged": 1616696946239
        }
      }
    },
    {
      "cell_type": "code",
      "source": [
        "id_name = \"ID\"\n",
        "target = \"TARGET\"\n",
        "model_path = \"d_scs_model.pkl\"\n",
        "test_file = \"test_d_scs.csv\"\n",
        "\n",
        "\n",
        "init(model_path)\n",
        "\n",
        "test_df = pd.read_csv(test_file)\n",
        "y_true = test_df[target]\n",
        "\n",
        "y_pred = predict(test_df.drop([target],axis=1))\n",
        "\n",
        "print(\"accuracy:\")\n",
        "print(np.mean(y_pred==y_true))\n",
        "\n",
        "from sklearn import metrics\n",
        "\n",
        "y_pred_prob = predict_proba(test_df.drop([target],axis=1))\n",
        "\n",
        "fpr, tpr, thresholds = metrics.roc_curve(y_true, y_pred_prob[:,1], pos_label=1)\n",
        "print(\"auc:\")\n",
        "print(metrics.auc(fpr, tpr))"
      ],
      "outputs": [
        {
          "output_type": "stream",
          "name": "stdout",
          "text": [
            "accuracy:\n",
            "0.9702709813207051\n",
            "auc:\n",
            "0.931477251888035\n"
          ]
        }
      ],
      "execution_count": 5,
      "metadata": {
        "collapsed": true,
        "jupyter": {
          "source_hidden": false,
          "outputs_hidden": false
        },
        "nteract": {
          "transient": {
            "deleting": false
          }
        },
        "gather": {
          "logged": 1616696970371
        }
      }
    },
    {
      "cell_type": "code",
      "source": [
        "## predcict test dataset on Kaggle\n",
        "\n",
        "kaggle_submit_head = [id_name, target]\n",
        "\n",
        "kaggle_test_file = \"kaggle-test-d_scs.csv\"\n",
        "kaggle_pred_file = \"kaggle-test-d_scs-predictions.csv\"\n",
        "\n",
        "kaggle_test_df = pd.read_csv(kaggle_test_file)\n",
        "kaggle_test_id = np.array(kaggle_test_df[id_name])\n",
        "#print(kaggle_test_df.head())\n",
        "print(kaggle_test_df.shape)\n",
        "\n",
        "count = 0\n",
        "kaggle_pred = []\n",
        "pred_neg_prpb = []\n",
        "pred_pos_prpb = []\n",
        "\n",
        "for i in range(10):\n",
        "    cur_pred = predict(kaggle_test_df.iloc[i:i+1,])[0]\n",
        "    cur_id = kaggle_test_id[i]\n",
        "    kaggle_pred.append([cur_id, cur_pred])\n",
        "\n",
        "print(kaggle_pred)\n"
      ],
      "outputs": [
        {
          "output_type": "stream",
          "name": "stdout",
          "text": [
            "(75818, 370)\n",
            "[[2, array([0])], [5, array([0])], [6, array([0])], [7, array([0])], [9, array([0])], [11, array([0])], [12, array([0])], [15, array([0])], [16, array([0])], [17, array([0])]]\n"
          ]
        }
      ],
      "execution_count": 8,
      "metadata": {
        "collapsed": true,
        "jupyter": {
          "source_hidden": false,
          "outputs_hidden": false
        },
        "nteract": {
          "transient": {
            "deleting": false
          }
        },
        "gather": {
          "logged": 1616698050148
        }
      }
    },
    {
      "cell_type": "code",
      "source": [
        "assert kaggle_y_pred.shape == kaggle_test_id.shape\n",
        "\n",
        "kaggle_pred_df = pd.DataFrame({kaggle_submit_head[0]: kaggle_test_id, kaggle_submit_head[1]: kaggle_y_pred})\n",
        "\n",
        "print(kaggle_pred_df.head())\n",
        "\n",
        " \n",
        "kaggle_pred_df.to_csv(kaggle_pred_file, index=False)"
      ],
      "outputs": [
        {
          "output_type": "stream",
          "name": "stdout",
          "text": [
            "(75818,)\n",
            "   ID  TARGET\n",
            "0   2       0\n",
            "1   5       0\n",
            "2   6       0\n",
            "3   7       0\n",
            "4   9       0\n"
          ]
        }
      ],
      "execution_count": 18,
      "metadata": {
        "collapsed": true,
        "jupyter": {
          "source_hidden": false,
          "outputs_hidden": false
        },
        "nteract": {
          "transient": {
            "deleting": false
          }
        },
        "gather": {
          "logged": 1616682825722
        }
      }
    }
  ],
  "metadata": {
    "kernelspec": {
      "name": "python3-azureml",
      "language": "python",
      "display_name": "Python 3.6 - AzureML"
    },
    "language_info": {
      "name": "python",
      "version": "3.6.9",
      "mimetype": "text/x-python",
      "codemirror_mode": {
        "name": "ipython",
        "version": 3
      },
      "pygments_lexer": "ipython3",
      "nbconvert_exporter": "python",
      "file_extension": ".py"
    },
    "kernel_info": {
      "name": "python3-azureml"
    },
    "microsoft": {
      "host": {
        "AzureML": {
          "notebookHasBeenCompleted": true
        }
      }
    },
    "nteract": {
      "version": "nteract-front-end@1.0.0"
    }
  },
  "nbformat": 4,
  "nbformat_minor": 2
}