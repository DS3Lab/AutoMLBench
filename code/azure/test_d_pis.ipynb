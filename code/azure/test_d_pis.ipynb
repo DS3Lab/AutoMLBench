{
  "cells": [
    {
      "cell_type": "code",
      "source": [
        "import json\n",
        "import numpy as np\n",
        "import pandas as pd\n",
        "\n",
        "import os\n",
        "from sklearn.externals import joblib\n",
        "\n",
        "\n",
        "def init(model_path=\"model.pkl\"):\n",
        "    global model\n",
        "    model = joblib.load(model_path)\n",
        "\n",
        "def predict(data):\n",
        "    try:\n",
        "        #data = np.array(json.loads(data))\n",
        "        result = model.predict(data)\n",
        "        # You can return any data type, as long as it is JSON serializable.\n",
        "        return result\n",
        "    except Exception as e:\n",
        "        error = str(e)\n",
        "        return error\n",
        "\n",
        "\n",
        "def predict_proba(data):\n",
        "    try:\n",
        "        #data = np.array(json.loads(data))\n",
        "        result = model.predict_proba(data)\n",
        "        # You can return any data type, as long as it is JSON serializable.\n",
        "        return result\n",
        "    except Exception as e:\n",
        "        error = str(e)\n",
        "        return error"
      ],
      "outputs": [
        {
          "output_type": "stream",
          "name": "stderr",
          "text": [
            "/anaconda/envs/azureml_py36/lib/python3.6/site-packages/sklearn/externals/joblib/__init__.py:15: FutureWarning: sklearn.externals.joblib is deprecated in 0.21 and will be removed in 0.23. Please import this functionality directly from joblib, which can be installed with: pip install joblib. If this warning is raised when loading pickled models, you may need to re-serialize those models with scikit-learn 0.21+.\n",
            "  warnings.warn(msg, category=FutureWarning)\n"
          ]
        }
      ],
      "execution_count": 1,
      "metadata": {
        "collapsed": true,
        "jupyter": {
          "source_hidden": false,
          "outputs_hidden": false
        },
        "nteract": {
          "transient": {
            "deleting": false
          }
        },
        "gather": {
          "logged": 1616667606357
        }
      }
    },
    {
      "cell_type": "code",
      "source": [
        "id_name = 'Id'\n",
        "target = \"Choice\"\n",
        "model_path = \"d_pis_model.pkl\"\n",
        "test_file = \"test_d_pis.csv\"\n",
        "\n",
        "init(model_path)\n",
        "\n",
        "test_df = pd.read_csv(test_file)\n",
        "y_true = test_df[target]\n",
        "\n",
        "y_pred = predict(test_df.drop([target],axis=1))\n",
        "\n",
        "print(\"accuracy:\")\n",
        "print(np.mean(y_pred==y_true))\n",
        "\n",
        "\n",
        "from sklearn import metrics\n",
        "\n",
        "y_pred_prob = predict_proba(test_df.drop([target],axis=1))\n",
        "\n",
        "fpr, tpr, thresholds = metrics.roc_curve(y_true, y_pred_prob[:,1], pos_label=1)\n",
        "print(\"auc:\")\n",
        "print(metrics.auc(fpr, tpr))"
      ],
      "outputs": [
        {
          "output_type": "stream",
          "name": "stdout",
          "text": [
            "accuracy:\n",
            "0.8836363636363637\n",
            "auc:\n",
            "0.9461423508252222\n"
          ]
        }
      ],
      "execution_count": 5,
      "metadata": {
        "collapsed": true,
        "jupyter": {
          "source_hidden": false,
          "outputs_hidden": false
        },
        "nteract": {
          "transient": {
            "deleting": false
          }
        },
        "gather": {
          "logged": 1616678178564
        }
      }
    },
    {
      "cell_type": "code",
      "source": [
        "## predcict test dataset on Kaggle\n",
        "\n",
        "kaggle_submit_head = [\"Id\", \"Choice\"]\n",
        "\n",
        "kaggle_test_file = \"kaggle-test-d_pis.csv\"\n",
        "kaggle_pred_file = \"kaggle-test-d_pis-predictions.csv\"\n",
        "\n",
        "kaggle_test_df = pd.read_csv(kaggle_test_file)\n",
        "print(kaggle_test_df.head())\n",
        "print(kaggle_test_df.shape)\n",
        "\n",
        "kaggle_test_id = np.arange(1, kaggle_test_df.shape[0] + 1)\n",
        "\n",
        "kaggle_y_pred = predict(kaggle_test_df)"
      ],
      "outputs": [
        {
          "output_type": "stream",
          "name": "stdout",
          "text": [
            "   A_follower_count  A_following_count  A_listed_count  A_mentions_received  \\\n",
            "0            614689                400            5729               199.62   \n",
            "1            739581              10723            1279               102.03   \n",
            "2              3638               3341              85                 2.79   \n",
            "3               613               1259              31                 1.33   \n",
            "4           1352348                331           15647             19129.85   \n",
            "\n",
            "   A_retweets_received  A_mentions_sent  A_retweets_sent  A_posts  \\\n",
            "0                67.81             9.37             0.36     4.09   \n",
            "1                96.77             1.54             1.05     3.47   \n",
            "2                 1.40             2.59             0.60     3.80   \n",
            "3                 0.36             6.25             2.32     7.49   \n",
            "4             14552.73             2.07             0.58    16.28   \n",
            "\n",
            "   A_network_feature_1  A_network_feature_2  ...  B_following_count  \\\n",
            "0                  669                39.19  ...                563   \n",
            "1                  432                11.19  ...              12949   \n",
            "2                   11                 9.42  ...                320   \n",
            "3                    4                 5.00  ...               3599   \n",
            "4                52580                 3.09  ...             147521   \n",
            "\n",
            "   B_listed_count  B_mentions_received  B_retweets_received  B_mentions_sent  \\\n",
            "0           20057               967.72               579.43             4.47   \n",
            "1            1311                38.26                10.70            12.85   \n",
            "2            3673              1207.19               599.72             0.84   \n",
            "3            1072                10.30                 3.83             1.62   \n",
            "4           15043              9902.07              5012.06            10.44   \n",
            "\n",
            "   B_retweets_sent  B_posts  B_network_feature_1  B_network_feature_2  \\\n",
            "0             0.81     6.24                 4027                57.64   \n",
            "1             1.58    12.11                  144               209.72   \n",
            "2             0.59     7.04                 3918                 7.86   \n",
            "3             0.10     1.61                   43               113.84   \n",
            "4             0.10   193.07                28564                10.96   \n",
            "\n",
            "   B_network_feature_3  \n",
            "0              3201.29  \n",
            "1             21496.57  \n",
            "2               637.98  \n",
            "3              2537.77  \n",
            "4              1035.96  \n",
            "\n",
            "[5 rows x 22 columns]\n",
            "(5952, 22)\n",
            "(5952,)\n"
          ]
        }
      ],
      "execution_count": 14,
      "metadata": {
        "collapsed": true,
        "jupyter": {
          "source_hidden": false,
          "outputs_hidden": false
        },
        "nteract": {
          "transient": {
            "deleting": false
          }
        },
        "gather": {
          "logged": 1616678653678
        }
      }
    },
    {
      "cell_type": "code",
      "source": [
        "print(kaggle_test_id.shape)\n",
        "\n",
        "assert kaggle_y_pred.shape == kaggle_test_id.shape\n",
        "\n",
        "kaggle_pred_df = pd.DataFrame({kaggle_submit_head[0]: kaggle_test_id, kaggle_submit_head[1]: kaggle_y_pred})\n",
        "\n",
        "print(kaggle_pred_df.head())\n",
        "\n",
        "kaggle_pred_df.to_csv(kaggle_pred_file, index=False)"
      ],
      "outputs": [
        {
          "output_type": "stream",
          "name": "stdout",
          "text": [
            "(5952,)\n",
            "   Id  Choice\n",
            "0   1       0\n",
            "1   2       0\n",
            "2   3       0\n",
            "3   4       0\n",
            "4   5       0\n"
          ]
        }
      ],
      "execution_count": 15,
      "metadata": {
        "collapsed": true,
        "jupyter": {
          "source_hidden": false,
          "outputs_hidden": false
        },
        "nteract": {
          "transient": {
            "deleting": false
          }
        },
        "gather": {
          "logged": 1616678729805
        }
      }
    }
  ],
  "metadata": {
    "kernelspec": {
      "name": "python3-azureml",
      "language": "python",
      "display_name": "Python 3.6 - AzureML"
    },
    "language_info": {
      "name": "python",
      "version": "3.6.9",
      "mimetype": "text/x-python",
      "codemirror_mode": {
        "name": "ipython",
        "version": 3
      },
      "pygments_lexer": "ipython3",
      "nbconvert_exporter": "python",
      "file_extension": ".py"
    },
    "kernel_info": {
      "name": "python3-azureml"
    },
    "microsoft": {
      "host": {
        "AzureML": {
          "notebookHasBeenCompleted": true
        }
      }
    },
    "nteract": {
      "version": "nteract-front-end@1.0.0"
    }
  },
  "nbformat": 4,
  "nbformat_minor": 2
}