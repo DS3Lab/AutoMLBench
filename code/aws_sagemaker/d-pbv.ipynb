{
 "cells": [
  {
   "cell_type": "code",
   "execution_count": 1,
   "metadata": {},
   "outputs": [],
   "source": [
    "import sagemaker\n",
    "import boto3\n",
    "from sagemaker import get_execution_role"
   ]
  },
  {
   "cell_type": "code",
   "execution_count": 2,
   "metadata": {},
   "outputs": [],
   "source": [
    "region = boto3.Session().region_name\n",
    "sm_rt = boto3.Session().client('runtime.sagemaker', region_name=region)\n",
    "\n",
    "ep_name = 'd-pbv-model'\n",
    "id_name = 'activity_id'\n",
    "target = 'outcome'\n",
    "\n",
    "file_name = \"./d-pbv/test_Predicting Red Hat Business Value.csv\"\n",
    "test_file_name = \"./d-pbv/test_Predicting Red Hat Business Value-no-label.csv\"\n",
    "\n",
    "kaggle_file_name = \"./d-pbv/kaggle-test-Predicting Red Hat Business Value.csv\"\n",
    "kaggle_test_file_name = \"./d-pbv/kaggle-test-Predicting Red Hat Business Value-no-label.csv\"\n",
    "\n",
    "kaggle_pred_file_name = \"./d-pbv/kaggle-test-Predicting Red Hat Business Value-predictions.csv\""
   ]
  },
  {
   "cell_type": "code",
   "execution_count": 3,
   "metadata": {},
   "outputs": [
    {
     "name": "stdout",
     "output_type": "stream",
     "text": [
      "    people_id   activity_id        date activity_category  char_1   char_2  \\\n",
      "0   ppl_64887     act2_1054  2022-09-22            type 3     NaN      NaN   \n",
      "1  ppl_305838  act2_1493887  2023-02-15            type 2     NaN      NaN   \n",
      "2     ppl_185     act1_8923  2023-08-26            type 1  type 5   type 2   \n",
      "3  ppl_166168   act1_282097  2022-10-20            type 1  type 3  type 10   \n",
      "4  ppl_135399   act2_446102  2023-06-08            type 2     NaN      NaN   \n",
      "\n",
      "   char_3  char_4  char_5  char_6  char_7  char_8  char_9  char_10  \n",
      "0     NaN     NaN     NaN     NaN     NaN     NaN     NaN  type 23  \n",
      "1     NaN     NaN     NaN     NaN     NaN     NaN     NaN   type 1  \n",
      "2  type 7  type 3  type 1  type 3  type 7  type 4  type 7      NaN  \n",
      "3  type 5  type 1  type 6  type 1  type 1  type 5  type 5      NaN  \n",
      "4     NaN     NaN     NaN     NaN     NaN     NaN     NaN   type 1  \n",
      "(219730, 14)\n"
     ]
    }
   ],
   "source": [
    "import pandas as pd\n",
    "import numpy as np\n",
    "\n",
    "df = pd.read_csv(file_name)\n",
    "df = df.drop([target],axis=1) \n",
    "print(df.head())\n",
    "print(df.shape)\n",
    "\n",
    "df.to_csv(test_file_name, index=False)"
   ]
  },
  {
   "cell_type": "code",
   "execution_count": 13,
   "metadata": {},
   "outputs": [],
   "source": [
    "f = open(test_file_name)\n",
    "\n",
    "count = 0\n",
    "pred_label = []\n",
    "pred_neg_prpb = []\n",
    "pred_pos_prpb = []\n",
    "\n",
    "for line in f:\n",
    "    if count == 0:\n",
    "        count = 1\n",
    "        continue\n",
    "    response = sm_rt.invoke_endpoint(EndpointName=ep_name, ContentType='text/csv', Accept='text/csv', Body=line.encode('utf-8'))\n",
    "    response = response['Body'].read().decode(\"utf-8\")\n",
    "    #print(response)\n",
    "    pred_label.append(int(response[0]))\n",
    "    ind1 = response.index(\"[\")\n",
    "    ind2 = response.index(\",\", ind1)\n",
    "    neg_prob = float(response[ind1+1:ind2])\n",
    "    #print(neg_prob)\n",
    "    pred_neg_prpb.append(neg_prob)\n",
    "    ind1 = response.index(\"]\", ind2)\n",
    "    pos_prob = float(response[ind2+2:ind1])\n",
    "    #print(pos_prob)\n",
    "    pred_pos_prpb.append(pos_prob)    \n",
    "    count = count + 1\n"
   ]
  },
  {
   "cell_type": "code",
   "execution_count": 15,
   "metadata": {},
   "outputs": [
    {
     "name": "stdout",
     "output_type": "stream",
     "text": [
      "[1, 1, 0, 0, 0, 1, 1, 0, 0, 0]\n",
      "[2.6941299438476562e-05, 0.44138211011886597, 0.5522752702236176, 0.5780945718288422, 0.5124545097351074, 0.4987850785255432, 0.46560537815093994, 0.8862053826451302, 0.5006422996520996, 0.5410961210727692]\n",
      "[0.9999730587005615, 0.558617889881134, 0.44772472977638245, 0.42190542817115784, 0.4875454902648926, 0.5012149214744568, 0.5343946218490601, 0.11379461735486984, 0.4993577003479004, 0.45890387892723083]\n",
      "0.6387657579756975\n"
     ]
    },
    {
     "data": {
      "text/plain": [
       "0.7166628807934289"
      ]
     },
     "execution_count": 15,
     "metadata": {},
     "output_type": "execute_result"
    }
   ],
   "source": [
    "print(pred_label[:10])\n",
    "print(pred_neg_prpb[:10])\n",
    "print(pred_pos_prpb[:10])\n",
    "\n",
    "import pandas as pd\n",
    "import numpy as np\n",
    "\n",
    "pd = pd.read_csv(file_name)\n",
    "y_true = np.array(pd[target])\n",
    "y_pred = np.array(pred_label)\n",
    "print(np.mean(y_true==y_pred))\n",
    "\n",
    "from sklearn import metrics\n",
    "fpr, tpr, thresholds = metrics.roc_curve(y_true, pred_pos_prpb, pos_label=1)\n",
    "metrics.auc(fpr, tpr)"
   ]
  },
  {
   "cell_type": "code",
   "execution_count": 4,
   "metadata": {},
   "outputs": [
    {
     "name": "stdout",
     "output_type": "stream",
     "text": [
      "    people_id   activity_id        date activity_category   char_1   char_2  \\\n",
      "0  ppl_100004   act1_249281  2022-07-20            type 1   type 5  type 10   \n",
      "1  ppl_100004   act2_230855  2022-07-20            type 5      NaN      NaN   \n",
      "2   ppl_10001   act1_240724  2022-10-14            type 1  type 12   type 1   \n",
      "3   ppl_10001    act1_83552  2022-11-27            type 1  type 20  type 10   \n",
      "4   ppl_10001  act2_1043301  2022-10-15            type 5      NaN      NaN   \n",
      "\n",
      "   char_3  char_4  char_5  char_6  char_7   char_8   char_9    char_10  \n",
      "0  type 5  type 1  type 6  type 1  type 1   type 7   type 4        NaN  \n",
      "1     NaN     NaN     NaN     NaN     NaN      NaN      NaN   type 682  \n",
      "2  type 5  type 4  type 6  type 1  type 1  type 13  type 10        NaN  \n",
      "3  type 5  type 4  type 6  type 1  type 1   type 5   type 5        NaN  \n",
      "4     NaN     NaN     NaN     NaN     NaN      NaN      NaN  type 3015  \n",
      "(498687, 14)\n"
     ]
    }
   ],
   "source": [
    "import pandas as pd\n",
    "import numpy as np\n",
    "\n",
    "df = pd.read_csv(kaggle_file_name)\n",
    "\n",
    "kaggle_test_ids = np.array(df[id_name])\n",
    "\n",
    "#df = df.drop([id_name],axis=1) \n",
    "\n",
    "print(df.head())\n",
    "print(df.shape)\n",
    "\n",
    "df.to_csv(kaggle_test_file_name, index=False)"
   ]
  },
  {
   "cell_type": "code",
   "execution_count": null,
   "metadata": {},
   "outputs": [],
   "source": [
    "f = open(kaggle_test_file_name)\n",
    "count = 0\n",
    "kaggle_pred = []\n",
    "\n",
    "for line in f:\n",
    "    if count == 0:\n",
    "        count = 1\n",
    "        continue\n",
    "    response = sm_rt.invoke_endpoint(EndpointName=ep_name, ContentType='text/csv', Accept='text/csv', Body=line.encode('utf-8'))\n",
    "    response = response['Body'].read().decode(\"utf-8\")\n",
    "    test_id = kaggle_test_ids[count-1]\n",
    "    pred = int(response[0])\n",
    "    kaggle_pred.append([test_id, pred])\n",
    "    count = count + 1\n",
    "\n",
    "kaggle_pred_df = pd.DataFrame(kaggle_pred, columns = [id_name, target])\n",
    "\n",
    "kaggle_pred_df.to_csv(kaggle_pred_file_name, index=False)"
   ]
  },
  {
   "cell_type": "code",
   "execution_count": 7,
   "metadata": {},
   "outputs": [
    {
     "name": "stdout",
     "output_type": "stream",
     "text": [
      "    activity_id  outcome\n",
      "0   act1_249281        0\n",
      "1   act2_230855        0\n",
      "2   act1_240724        1\n",
      "3    act1_83552        1\n",
      "4  act2_1043301        1\n",
      "(498687, 2)\n"
     ]
    }
   ],
   "source": [
    "print(kaggle_pred_df.head())\n",
    "print(kaggle_pred_df.shape)"
   ]
  },
  {
   "cell_type": "code",
   "execution_count": 8,
   "metadata": {},
   "outputs": [
    {
     "data": {
      "text/plain": [
       "{'ResponseMetadata': {'RequestId': '016f2ea9-f522-44a3-a53f-3185a7d70aba',\n",
       "  'HTTPStatusCode': 200,\n",
       "  'HTTPHeaders': {'x-amzn-requestid': '016f2ea9-f522-44a3-a53f-3185a7d70aba',\n",
       "   'content-type': 'application/x-amz-json-1.1',\n",
       "   'content-length': '0',\n",
       "   'date': 'Wed, 24 Mar 2021 07:47:54 GMT'},\n",
       "  'RetryAttempts': 0}}"
      ]
     },
     "execution_count": 8,
     "metadata": {},
     "output_type": "execute_result"
    }
   ],
   "source": [
    "import boto3\n",
    "sm = boto3.client('sagemaker')\n",
    "#sm.delete_endpoint_config(EndpointConfigName=endpoint_config_name)\n",
    "sm.delete_endpoint(EndpointName=ep_name)"
   ]
  },
  {
   "cell_type": "code",
   "execution_count": null,
   "metadata": {},
   "outputs": [],
   "source": []
  }
 ],
 "metadata": {
  "instance_type": "ml.t3.medium",
  "kernelspec": {
   "display_name": "Python 3 (Data Science)",
   "language": "python",
   "name": "python3__SAGEMAKER_INTERNAL__arn:aws:sagemaker:eu-central-1:936697816551:image/datascience-1.0"
  },
  "language_info": {
   "codemirror_mode": {
    "name": "ipython",
    "version": 3
   },
   "file_extension": ".py",
   "mimetype": "text/x-python",
   "name": "python",
   "nbconvert_exporter": "python",
   "pygments_lexer": "ipython3",
   "version": "3.7.10"
  }
 },
 "nbformat": 4,
 "nbformat_minor": 4
}
