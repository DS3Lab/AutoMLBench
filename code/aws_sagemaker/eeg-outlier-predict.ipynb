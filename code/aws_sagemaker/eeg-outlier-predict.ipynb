{
 "cells": [
  {
   "cell_type": "code",
   "execution_count": 2,
   "metadata": {},
   "outputs": [],
   "source": [
    "import sagemaker\n",
    "import boto3\n",
    "from sagemaker import get_execution_role"
   ]
  },
  {
   "cell_type": "code",
   "execution_count": 3,
   "metadata": {},
   "outputs": [],
   "source": [
    "region = boto3.Session().region_name\n",
    "sm_rt = boto3.Session().client('runtime.sagemaker', region_name=region)\n",
    "\n",
    "ep_name = 'eeg-outlier-model'\n",
    "id_name = ''\n",
    "target = 'Eye'\n",
    "\n",
    "file_name = \"EEG-outlier-test.csv\"\n",
    "test_file_name = \"EEG-outlier-test-no-label.csv\"\n",
    "\n",
    "kaggle_file_name = \"\"\n",
    "kaggle_test_file_name = \"\"\n",
    "kaggle_pred_file_name = \"\""
   ]
  },
  {
   "cell_type": "code",
   "execution_count": 4,
   "metadata": {},
   "outputs": [
    {
     "name": "stdout",
     "output_type": "stream",
     "text": [
      "       AF3       F7       F3      FC5       T7       P7       O1       O2  \\\n",
      "0  4343.59  3971.79  4265.13  4092.31  4326.67  4618.97  4100.00  4626.15   \n",
      "1  4431.79  4072.31  4304.62  4154.36  4350.77  4621.03  4077.44  4601.54   \n",
      "2  4316.41  4037.44  4247.18  4134.87  4327.69  4592.82  4048.21  4598.46   \n",
      "3  4285.13  3996.41  4260.51  4108.72  4333.33  4617.95  4064.10  4625.13   \n",
      "4  4288.72  4018.46  4267.69  4131.79  4338.97  4629.23  4086.15  4616.41   \n",
      "\n",
      "        P8       T8      FC6       F4       F8      AF4  \n",
      "0  4205.64  4227.69  4238.46  4309.74  4654.36  4403.08  \n",
      "1  4211.28  4275.90  4249.74  4321.54  4685.64  4476.41  \n",
      "2  4190.26  4216.92  4177.44  4257.95  4588.21  4365.64  \n",
      "3  4203.08  4229.23  4201.54  4281.03  4606.15  4354.36  \n",
      "4  4191.79  4221.03  4196.41  4270.77  4590.26  4336.92  \n",
      "(4494, 14)\n"
     ]
    }
   ],
   "source": [
    "import pandas as pd\n",
    "import numpy as np\n",
    "\n",
    "df = pd.read_csv(file_name)\n",
    "df = df.drop([target],axis=1) \n",
    "print(df.head())\n",
    "print(df.shape)\n",
    "\n",
    "df.to_csv(test_file_name, index=False)"
   ]
  },
  {
   "cell_type": "code",
   "execution_count": 10,
   "metadata": {},
   "outputs": [],
   "source": [
    "f = open(test_file_name)\n",
    "count = 0\n",
    "pred_label = []\n",
    "pred_neg_prpb = []\n",
    "pred_pos_prpb = []\n",
    "\n",
    "for line in f:\n",
    "    if count==0:\n",
    "        count=1\n",
    "        continue\n",
    "    response = sm_rt.invoke_endpoint(EndpointName=ep_name, ContentType='text/csv', Accept='text/csv', Body=line.encode('utf-8'))\n",
    "    response = response['Body'].read().decode(\"utf-8\")\n",
    "    #print(response)\n",
    "    pred_label.append(int(response[0]))\n",
    "    #ind1 = response.index(\"[\")\n",
    "    #ind2 = response.index(\",\", ind1)\n",
    "    #neg_prob = float(response[ind1+1:ind2])\n",
    "    #print(neg_prob)\n",
    "    #pred_neg_prpb.append(neg_prob)\n",
    "    #ind1 = response.index(\"]\", ind2)\n",
    "    #pos_prob = float(response[ind2+2:ind1])\n",
    "    ind1 = response.index(\",\")\n",
    "    neg_prob = float(response[ind1+1:])\n",
    "    pred_neg_prpb.append(neg_prob)\n",
    "    pos_prob = 1 - neg_prob\n",
    "    #print(pos_prob)\n",
    "    pred_pos_prpb.append(pos_prob)\n",
    "    count = count + 1\n"
   ]
  },
  {
   "cell_type": "code",
   "execution_count": 12,
   "metadata": {},
   "outputs": [
    {
     "name": "stdout",
     "output_type": "stream",
     "text": [
      "[1, 0, 1, 0, 0, 0, 0, 0, 1, 1, 1, 0, 0, 0, 0, 0, 0, 1, 0, 1]\n",
      "[0.9957200884819031, 0.0099606579169631, 0.8584847450256348, 0.008934120647609234, 0.3356174826622009, 0.0017440435476601124, 0.005327907856553793, 0.11146163195371628, 0.8982624411582947, 0.9419276714324951, 0.9875872731208801, 0.0022254008799791336, 0.009246845729649067, 0.008924937807023525, 0.003984182607382536, 0.04974837601184845, 0.017799168825149536, 0.9748295545578003, 0.026122814044356346, 0.9790793657302856]\n",
      "[0.004279911518096924, 0.9900393420830369, 0.14151525497436523, 0.9910658793523908, 0.6643825173377991, 0.9982559564523399, 0.9946720921434462, 0.8885383680462837, 0.10173755884170532, 0.05807232856750488, 0.012412726879119873, 0.9977745991200209, 0.9907531542703509, 0.9910750621929765, 0.9960158173926175, 0.9502516239881516, 0.9822008311748505, 0.025170445442199707, 0.9738771859556437, 0.020920634269714355]\n",
      "test accuracy = 0.9425901201602136\n",
      "test auc = 0.98744390848387\n"
     ]
    }
   ],
   "source": [
    "print(pred_label[:20])\n",
    "print(pred_neg_prpb[:20])\n",
    "print(pred_pos_prpb[:20])\n",
    "\n",
    "\n",
    "import pandas as pd\n",
    "import numpy as np\n",
    "pd = pd.read_csv(file_name)\n",
    "y_true = np.array(pd[target])\n",
    "y_pred = np.array(pred_label)\n",
    "print(\"test accuracy = {}\".format(np.mean(y_true==y_pred)))\n",
    "\n",
    "from sklearn import metrics\n",
    "fpr, tpr, thresholds = metrics.roc_curve(y_true, pred_neg_prpb, pos_label=1)\n",
    "print(\"test auc = {}\".format(metrics.auc(fpr, tpr)))"
   ]
  },
  {
   "cell_type": "code",
   "execution_count": 12,
   "metadata": {},
   "outputs": [
    {
     "name": "stdout",
     "output_type": "stream",
     "text": [
      "   RESOURCE  MGR_ID  ROLE_ROLLUP_1  ROLE_ROLLUP_2  ROLE_DEPTNAME  ROLE_TITLE  \\\n",
      "0     78766   72734         118079         118080         117878      117879   \n",
      "1     40644    4378         117961         118327         118507      118863   \n",
      "2     75443    2395         117961         118300         119488      118172   \n",
      "3     43219   19986         117961         118225         118403      120773   \n",
      "4     42093   50015         117961         118343         119598      118422   \n",
      "\n",
      "   ROLE_FAMILY_DESC  ROLE_FAMILY  ROLE_CODE  \n",
      "0            118177        19721     117880  \n",
      "1            122008       118398     118865  \n",
      "2            301534       249618     118175  \n",
      "3            136187       118960     120774  \n",
      "4            300136       118424     118425  \n",
      "(58921, 9)\n"
     ]
    }
   ],
   "source": [
    "import pandas as pd\n",
    "import numpy as np\n",
    "\n",
    "df = pd.read_csv(kaggle_file_name)\n",
    "\n",
    "kaggle_test_ids = np.array(df[id_name])\n",
    "\n",
    "df = df.drop([id_name],axis=1) \n",
    "print(df.head())\n",
    "print(df.shape)\n",
    "\n",
    "df.to_csv(kaggle_test_file_name, index=False)"
   ]
  },
  {
   "cell_type": "code",
   "execution_count": 14,
   "metadata": {},
   "outputs": [],
   "source": [
    "f = open(kaggle_test_file_name)\n",
    "count = 0\n",
    "kaggle_pred = []\n",
    "\n",
    "for line in f:\n",
    "    if count == 0:\n",
    "        count = 1\n",
    "        continue\n",
    "    response = sm_rt.invoke_endpoint(EndpointName=ep_name, ContentType='text/csv', Accept='text/csv', Body=line.encode('utf-8'))\n",
    "    response = response['Body'].read().decode(\"utf-8\")\n",
    "    test_id = kaggle_test_ids[count-1]\n",
    "    pred = int(response[0])\n",
    "    kaggle_pred.append([test_id, pred])\n",
    "    count = count + 1\n",
    "\n",
    "kaggle_pred_df = pd.DataFrame(kaggle_pred, columns = [id_name, target])\n",
    "\n",
    "kaggle_pred_df.to_csv(kaggle_pred_file_name, index=False)"
   ]
  },
  {
   "cell_type": "code",
   "execution_count": 21,
   "metadata": {},
   "outputs": [
    {
     "name": "stdout",
     "output_type": "stream",
     "text": [
      "   id  ACTION\n",
      "0   1       1\n",
      "1   2       1\n",
      "2   3       1\n",
      "3   4       1\n",
      "4   5       1\n",
      "(58921, 2)\n"
     ]
    }
   ],
   "source": [
    "print(kaggle_pred_df.head())\n",
    "print(kaggle_pred_df.shape)"
   ]
  },
  {
   "cell_type": "code",
   "execution_count": 22,
   "metadata": {},
   "outputs": [
    {
     "data": {
      "text/plain": [
       "{'ResponseMetadata': {'RequestId': '3adbc464-12f4-4c5b-af4a-1bad8f737f35',\n",
       "  'HTTPStatusCode': 200,\n",
       "  'HTTPHeaders': {'x-amzn-requestid': '3adbc464-12f4-4c5b-af4a-1bad8f737f35',\n",
       "   'content-type': 'application/x-amz-json-1.1',\n",
       "   'content-length': '0',\n",
       "   'date': 'Wed, 24 Mar 2021 07:51:25 GMT'},\n",
       "  'RetryAttempts': 0}}"
      ]
     },
     "execution_count": 22,
     "metadata": {},
     "output_type": "execute_result"
    }
   ],
   "source": [
    "import boto3\n",
    "sm = boto3.client('sagemaker')\n",
    "#sm.delete_endpoint_config(EndpointConfigName=endpoint_config_name)\n",
    "sm.delete_endpoint(EndpointName=ep_name)"
   ]
  },
  {
   "cell_type": "code",
   "execution_count": null,
   "metadata": {},
   "outputs": [],
   "source": []
  }
 ],
 "metadata": {
  "instance_type": "ml.t3.medium",
  "kernelspec": {
   "display_name": "Python 3 (Data Science)",
   "language": "python",
   "name": "python3__SAGEMAKER_INTERNAL__arn:aws:sagemaker:eu-central-1:936697816551:image/datascience-1.0"
  },
  "language_info": {
   "codemirror_mode": {
    "name": "ipython",
    "version": 3
   },
   "file_extension": ".py",
   "mimetype": "text/x-python",
   "name": "python",
   "nbconvert_exporter": "python",
   "pygments_lexer": "ipython3",
   "version": "3.7.10"
  }
 },
 "nbformat": 4,
 "nbformat_minor": 4
}
