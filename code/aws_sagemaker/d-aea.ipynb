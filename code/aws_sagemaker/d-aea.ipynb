{
 "cells": [
  {
   "cell_type": "code",
   "execution_count": 1,
   "metadata": {},
   "outputs": [],
   "source": [
    "import sagemaker\n",
    "import boto3\n",
    "from sagemaker import get_execution_role"
   ]
  },
  {
   "cell_type": "code",
   "execution_count": 11,
   "metadata": {},
   "outputs": [],
   "source": [
    "region = boto3.Session().region_name\n",
    "sm_rt = boto3.Session().client('runtime.sagemaker', region_name=region)\n",
    "\n",
    "ep_name = 'd-aea-model'\n",
    "id_name = 'id'\n",
    "target = 'ACTION'\n",
    "\n",
    "file_name = \"./d-aea/test_Amazon.com-Employee Access Challenge.csv\"\n",
    "test_file_name = \"./d-aea/test_Amazon.com-Employee Access Challenge-no-label.csv\"\n",
    "\n",
    "kaggle_file_name = \"./d-aea/kaggle-test-Amazon.com-Employee Access Challenge.csv\"\n",
    "kaggle_test_file_name = \"./d-aea/kaggle-test-Amazon.com-Employee Access Challenge-no-label.csv\"\n",
    "\n",
    "kaggle_pred_file_name = \"./d-aea/kaggle-test-Amazon.com-Employee Access Challenge-predictions.csv\""
   ]
  },
  {
   "cell_type": "code",
   "execution_count": 3,
   "metadata": {},
   "outputs": [
    {
     "name": "stdout",
     "output_type": "stream",
     "text": [
      "   RESOURCE  MGR_ID  ROLE_ROLLUP_1  ROLE_ROLLUP_2  ROLE_DEPTNAME  ROLE_TITLE  \\\n",
      "0     75078   13876         117961         118386         118404      118685   \n",
      "1     43085    1271         117961         118327         118507      118890   \n",
      "2     78839     795         117961         118225         120551      117905   \n",
      "3     38725   14674          11146         118491         117920      118568   \n",
      "4     32270    5113         117961         118300         119890      120497   \n",
      "\n",
      "   ROLE_FAMILY_DESC  ROLE_FAMILY  ROLE_CODE  \n",
      "0            120316       308574     118687  \n",
      "1            138290       118398     118892  \n",
      "2            117906       290919     117908  \n",
      "3            163031        19721     118570  \n",
      "4            258776       118424     120499  \n",
      "(3277, 9)\n"
     ]
    }
   ],
   "source": [
    "import pandas as pd\n",
    "import numpy as np\n",
    "\n",
    "df = pd.read_csv(file_name)\n",
    "df = df.drop([target],axis=1) \n",
    "print(df.head())\n",
    "print(df.shape)\n",
    "\n",
    "df.to_csv(test_file_name, index=False)"
   ]
  },
  {
   "cell_type": "code",
   "execution_count": 4,
   "metadata": {},
   "outputs": [
    {
     "name": "stdout",
     "output_type": "stream",
     "text": [
      "[1, 1, 1, 1, 1, 1, 1, 1, 1, 1]\n",
      "[0.9999958566545502, 0.9999752757503302, 0.9998424704826903, 0.9997956361476099, 0.9999907638894001, 0.9999926456512185, 0.999999965907783, 0.9999906389011812, 0.995082697365433, 0.9995763158367481]\n",
      "[4.143345449847402e-06, 2.4724249669816345e-05, 0.00015752951730974019, 0.00020436385239008814, 9.23611059988616e-06, 7.354348781518638e-06, 3.409221704941956e-08, 9.361098818772007e-06, 0.004917302634567022, 0.00042368416325189173]\n"
     ]
    }
   ],
   "source": [
    "f = open(test_file_name)\n",
    "count = 0\n",
    "pred_label = []\n",
    "pred_neg_prpb = []\n",
    "pred_pos_prpb = []\n",
    "\n",
    "for line in f:\n",
    "    if count==0:\n",
    "        count=1\n",
    "        continue\n",
    "    response = sm_rt.invoke_endpoint(EndpointName=ep_name, ContentType='text/csv', Accept='text/csv', Body=line.encode('utf-8'))\n",
    "    response = response['Body'].read().decode(\"utf-8\")\n",
    "    #print(response)\n",
    "    pred_label.append(int(response[0]))\n",
    "    ind1 = response.index(\"[\")\n",
    "    ind2 = response.index(\",\", ind1)\n",
    "    neg_prob = float(response[ind1+1:ind2])\n",
    "    #print(neg_prob)\n",
    "    pred_neg_prpb.append(neg_prob)\n",
    "    ind1 = response.index(\"]\", ind2)\n",
    "    pos_prob = float(response[ind2+2:ind1])\n",
    "    #print(pos_prob)\n",
    "    pred_pos_prpb.append(pos_prob)\n",
    "    count = count + 1\n"
   ]
  },
  {
   "cell_type": "code",
   "execution_count": 19,
   "metadata": {},
   "outputs": [
    {
     "name": "stdout",
     "output_type": "stream",
     "text": [
      "[1, 1, 1, 1, 1, 1, 1, 1, 1, 1, 0, 1, 1, 1, 1, 1, 1, 1, 1, 1]\n",
      "[0.9999958566545502, 0.9999752757503302, 0.9998424704826903, 0.9997956361476099, 0.9999907638894001, 0.9999926456512185, 0.999999965907783, 0.9999906389011812, 0.995082697365433, 0.9995763158367481, 0.002267122268676758, 0.9987954893149436, 0.9990924974554218, 0.9678932316601276, 0.9940431285649538, 0.9999994503787093, 0.9999910176347839, 0.9999984252493732, 0.9997183233208489, 0.9869777821004391]\n",
      "[4.143345449847402e-06, 2.4724249669816345e-05, 0.00015752951730974019, 0.00020436385239008814, 9.23611059988616e-06, 7.354348781518638e-06, 3.409221704941956e-08, 9.361098818772007e-06, 0.004917302634567022, 0.00042368416325189173, 0.9977328777313232, 0.001204510685056448, 0.0009075025445781648, 0.03210676833987236, 0.005956871435046196, 5.496212907019071e-07, 8.98236521607032e-06, 1.5747506267871358e-06, 0.0002816766791511327, 0.013022217899560928]\n",
      "0.9737564845895637\n"
     ]
    },
    {
     "data": {
      "text/plain": [
       "0.8993278933717034"
      ]
     },
     "execution_count": 19,
     "metadata": {},
     "output_type": "execute_result"
    }
   ],
   "source": [
    "print(pred_label[:20])\n",
    "print(pred_neg_prpb[:20])\n",
    "print(pred_pos_prpb[:20])\n",
    "\n",
    "\n",
    "import pandas as pd\n",
    "import numpy as np\n",
    "pd = pd.read_csv(file_name)\n",
    "y_true = np.array(pd[target])\n",
    "y_pred = np.array(pred_label)\n",
    "print(np.mean(y_true==y_pred))\n",
    "\n",
    "from sklearn import metrics\n",
    "fpr, tpr, thresholds = metrics.roc_curve(y_true, pred_neg_prpb, pos_label=1)\n",
    "metrics.auc(fpr, tpr)"
   ]
  },
  {
   "cell_type": "code",
   "execution_count": 12,
   "metadata": {},
   "outputs": [
    {
     "name": "stdout",
     "output_type": "stream",
     "text": [
      "   RESOURCE  MGR_ID  ROLE_ROLLUP_1  ROLE_ROLLUP_2  ROLE_DEPTNAME  ROLE_TITLE  \\\n",
      "0     78766   72734         118079         118080         117878      117879   \n",
      "1     40644    4378         117961         118327         118507      118863   \n",
      "2     75443    2395         117961         118300         119488      118172   \n",
      "3     43219   19986         117961         118225         118403      120773   \n",
      "4     42093   50015         117961         118343         119598      118422   \n",
      "\n",
      "   ROLE_FAMILY_DESC  ROLE_FAMILY  ROLE_CODE  \n",
      "0            118177        19721     117880  \n",
      "1            122008       118398     118865  \n",
      "2            301534       249618     118175  \n",
      "3            136187       118960     120774  \n",
      "4            300136       118424     118425  \n",
      "(58921, 9)\n"
     ]
    }
   ],
   "source": [
    "import pandas as pd\n",
    "import numpy as np\n",
    "\n",
    "df = pd.read_csv(kaggle_file_name)\n",
    "\n",
    "kaggle_test_ids = np.array(df[id_name])\n",
    "\n",
    "df = df.drop([id_name],axis=1) \n",
    "print(df.head())\n",
    "print(df.shape)\n",
    "\n",
    "df.to_csv(kaggle_test_file_name, index=False)"
   ]
  },
  {
   "cell_type": "code",
   "execution_count": 14,
   "metadata": {},
   "outputs": [],
   "source": [
    "f = open(kaggle_test_file_name)\n",
    "count = 0\n",
    "kaggle_pred = []\n",
    "\n",
    "for line in f:\n",
    "    if count == 0:\n",
    "        count = 1\n",
    "        continue\n",
    "    response = sm_rt.invoke_endpoint(EndpointName=ep_name, ContentType='text/csv', Accept='text/csv', Body=line.encode('utf-8'))\n",
    "    response = response['Body'].read().decode(\"utf-8\")\n",
    "    test_id = kaggle_test_ids[count-1]\n",
    "    pred = int(response[0])\n",
    "    kaggle_pred.append([test_id, pred])\n",
    "    count = count + 1\n",
    "\n",
    "kaggle_pred_df = pd.DataFrame(kaggle_pred, columns = [id_name, target])\n",
    "\n",
    "kaggle_pred_df.to_csv(kaggle_pred_file_name, index=False)"
   ]
  },
  {
   "cell_type": "code",
   "execution_count": 21,
   "metadata": {},
   "outputs": [
    {
     "name": "stdout",
     "output_type": "stream",
     "text": [
      "   id  ACTION\n",
      "0   1       1\n",
      "1   2       1\n",
      "2   3       1\n",
      "3   4       1\n",
      "4   5       1\n",
      "(58921, 2)\n"
     ]
    }
   ],
   "source": [
    "print(kaggle_pred_df.head())\n",
    "print(kaggle_pred_df.shape)"
   ]
  },
  {
   "cell_type": "code",
   "execution_count": 22,
   "metadata": {},
   "outputs": [
    {
     "data": {
      "text/plain": [
       "{'ResponseMetadata': {'RequestId': '3adbc464-12f4-4c5b-af4a-1bad8f737f35',\n",
       "  'HTTPStatusCode': 200,\n",
       "  'HTTPHeaders': {'x-amzn-requestid': '3adbc464-12f4-4c5b-af4a-1bad8f737f35',\n",
       "   'content-type': 'application/x-amz-json-1.1',\n",
       "   'content-length': '0',\n",
       "   'date': 'Wed, 24 Mar 2021 07:51:25 GMT'},\n",
       "  'RetryAttempts': 0}}"
      ]
     },
     "execution_count": 22,
     "metadata": {},
     "output_type": "execute_result"
    }
   ],
   "source": [
    "import boto3\n",
    "sm = boto3.client('sagemaker')\n",
    "#sm.delete_endpoint_config(EndpointConfigName=endpoint_config_name)\n",
    "sm.delete_endpoint(EndpointName=ep_name)"
   ]
  },
  {
   "cell_type": "code",
   "execution_count": null,
   "metadata": {},
   "outputs": [],
   "source": []
  }
 ],
 "metadata": {
  "instance_type": "ml.t3.medium",
  "kernelspec": {
   "display_name": "Python 3",
   "language": "python",
   "name": "python3"
  },
  "language_info": {
   "codemirror_mode": {
    "name": "ipython",
    "version": 3
   },
   "file_extension": ".py",
   "mimetype": "text/x-python",
   "name": "python",
   "nbconvert_exporter": "python",
   "pygments_lexer": "ipython3",
   "version": "3.7.3"
  }
 },
 "nbformat": 4,
 "nbformat_minor": 4
}
