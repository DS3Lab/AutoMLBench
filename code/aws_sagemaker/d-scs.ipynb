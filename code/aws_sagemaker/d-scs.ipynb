{
 "cells": [
  {
   "cell_type": "code",
   "execution_count": 5,
   "metadata": {},
   "outputs": [],
   "source": [
    "import sagemaker\n",
    "import boto3\n",
    "from sagemaker import get_execution_role"
   ]
  },
  {
   "cell_type": "code",
   "execution_count": 6,
   "metadata": {},
   "outputs": [],
   "source": [
    "region = boto3.Session().region_name\n",
    "sm_rt = boto3.Session().client('runtime.sagemaker', region_name=region)\n",
    "\n",
    "ep_name = 'd-scs-model'\n",
    "id_name = \"ID\"\n",
    "target = 'TARGET'\n",
    "\n",
    "file_name = \"./d-scs/test_Santander Customer Satisfaction.csv\"\n",
    "test_file_name = \"./d-scs/test_Santander Customer Satisfaction-no-label.csv\"\n",
    "\n",
    "kaggle_file_name = \"./d-scs/kaggle-test-Santander Customer Satisfaction.csv\"\n",
    "kaggle_test_file_name = \"./d-scs/kaggle-test-Santander Customer Satisfaction-no-label.csv\"\n",
    "kaggle_pred_file_name = \"./d-scs/kaggle-test-Santander Customer Satisfaction-predictions.csv\""
   ]
  },
  {
   "cell_type": "code",
   "execution_count": 7,
   "metadata": {},
   "outputs": [
    {
     "name": "stdout",
     "output_type": "stream",
     "text": [
      "       ID  var3  var15  imp_ent_var16_ult1  imp_op_var39_comer_ult1  \\\n",
      "0   48416     2     37                 0.0                      0.0   \n",
      "1   33612     2     23                 0.0                      0.0   \n",
      "2   75760     2     23                 0.0                      0.0   \n",
      "3   25656     2     50                 0.0                      0.0   \n",
      "4  110161     2     23                 0.0                      0.0   \n",
      "\n",
      "   imp_op_var39_comer_ult3  imp_op_var40_comer_ult1  imp_op_var40_comer_ult3  \\\n",
      "0                      0.0                      0.0                      0.0   \n",
      "1                      0.0                      0.0                      0.0   \n",
      "2                      0.0                      0.0                      0.0   \n",
      "3                      0.0                      0.0                      0.0   \n",
      "4                      0.0                      0.0                      0.0   \n",
      "\n",
      "   imp_op_var40_efect_ult1  imp_op_var40_efect_ult3  ...  \\\n",
      "0                      0.0                      0.0  ...   \n",
      "1                      0.0                      0.0  ...   \n",
      "2                      0.0                      0.0  ...   \n",
      "3                      0.0                      0.0  ...   \n",
      "4                      0.0                      0.0  ...   \n",
      "\n",
      "   saldo_medio_var29_ult3  saldo_medio_var33_hace2  saldo_medio_var33_hace3  \\\n",
      "0                     0.0                      0.0                      0.0   \n",
      "1                     0.0                      0.0                      0.0   \n",
      "2                     0.0                      0.0                      0.0   \n",
      "3                     0.0                      0.0                      0.0   \n",
      "4                     0.0                      0.0                      0.0   \n",
      "\n",
      "   saldo_medio_var33_ult1  saldo_medio_var33_ult3  saldo_medio_var44_hace2  \\\n",
      "0                     0.0                     0.0                      0.0   \n",
      "1                     0.0                     0.0                      0.0   \n",
      "2                     0.0                     0.0                      0.0   \n",
      "3                     0.0                     0.0                      0.0   \n",
      "4                     0.0                     0.0                      0.0   \n",
      "\n",
      "   saldo_medio_var44_hace3  saldo_medio_var44_ult1  saldo_medio_var44_ult3  \\\n",
      "0                      0.0                     0.0                     0.0   \n",
      "1                      0.0                     0.0                     0.0   \n",
      "2                      0.0                     0.0                     0.0   \n",
      "3                      0.0                     0.0                     0.0   \n",
      "4                      0.0                     0.0                     0.0   \n",
      "\n",
      "           var38  \n",
      "0  115193.550000  \n",
      "1   33428.730000  \n",
      "2  117310.979016  \n",
      "3  117310.979016  \n",
      "4  117310.979016  \n",
      "\n",
      "[5 rows x 370 columns]\n",
      "(7602, 370)\n"
     ]
    }
   ],
   "source": [
    "import pandas as pd\n",
    "import numpy as np\n",
    "\n",
    "df = pd.read_csv(file_name)\n",
    "\n",
    "df = df.drop([target],axis=1) \n",
    "print(df.head())\n",
    "print(df.shape)\n",
    "\n",
    "df.to_csv(test_file_name, index=False)"
   ]
  },
  {
   "cell_type": "code",
   "execution_count": 8,
   "metadata": {},
   "outputs": [],
   "source": [
    "f = open(test_file_name)\n",
    "count = 0\n",
    "pred_label = []\n",
    "pred_neg_prpb = []\n",
    "pred_pos_prpb = []\n",
    "\n",
    "for line in f:\n",
    "    if count==0:\n",
    "        count=1\n",
    "        continue\n",
    "    response = sm_rt.invoke_endpoint(EndpointName=ep_name, ContentType='text/csv', Accept='text/csv', Body=line.encode('utf-8'))\n",
    "    response = response['Body'].read().decode(\"utf-8\")\n",
    "    #print(response)\n",
    "    pred_label.append(int(response[0]))\n",
    "    ind1 = response.index(\"[\")\n",
    "    ind2 = response.index(\",\", ind1)\n",
    "    neg_prob = float(response[ind1+1:ind2])\n",
    "    #print(neg_prob)\n",
    "    pred_neg_prpb.append(neg_prob)\n",
    "    ind1 = response.index(\"]\", ind2)\n",
    "    pos_prob = float(response[ind2+2:ind1])\n",
    "    #print(pos_prob)\n",
    "    pred_pos_prpb.append(pos_prob)    \n"
   ]
  },
  {
   "cell_type": "code",
   "execution_count": 10,
   "metadata": {},
   "outputs": [
    {
     "name": "stdout",
     "output_type": "stream",
     "text": [
      "[0, 0, 0, 0, 0, 1, 0, 0, 0, 0]\n",
      "[0.9758619740605354, 0.9873773753643036, 0.9964950431603938, 0.774812862277031, 0.9961056509055197, 0.2833617329597473, 0.5005277693271637, 0.9982742230640724, 0.9971376592293382, 0.9423586539924145]\n",
      "[0.02413802593946457, 0.012622624635696411, 0.003504956839606166, 0.22518713772296906, 0.003894349094480276, 0.7166382670402527, 0.4994722306728363, 0.0017257769359275699, 0.002862340770661831, 0.057641346007585526]\n",
      "0.9373848987108656\n"
     ]
    },
    {
     "data": {
      "text/plain": [
       "0.9125375999390304"
      ]
     },
     "execution_count": 10,
     "metadata": {},
     "output_type": "execute_result"
    }
   ],
   "source": [
    "print(pred_label[:10])\n",
    "print(pred_neg_prpb[:10])\n",
    "print(pred_pos_prpb[:10])\n",
    "\n",
    "import pandas as pd\n",
    "import numpy as np\n",
    "pd = pd.read_csv(file_name)\n",
    "y_true = np.array(pd[target])\n",
    "y_pred = np.array(pred_label)\n",
    "print(np.mean(y_true==y_pred))\n",
    "\n",
    "from sklearn import metrics\n",
    "#fpr, tpr, thresholds = metrics.roc_curve(y_true, pred_pos_prpb, pos_label=1)\n",
    "#metrics.auc(fpr, tpr)\n",
    "metrics.roc_auc_score(y_true, pred_pos_prpb)"
   ]
  },
  {
   "cell_type": "code",
   "execution_count": 12,
   "metadata": {},
   "outputs": [
    {
     "name": "stdout",
     "output_type": "stream",
     "text": [
      "   ID  var3  var15  imp_ent_var16_ult1  imp_op_var39_comer_ult1  \\\n",
      "0   2     2     32                 0.0                      0.0   \n",
      "1   5     2     35                 0.0                      0.0   \n",
      "2   6     2     23                 0.0                      0.0   \n",
      "3   7     2     24                 0.0                      0.0   \n",
      "4   9     2     23                 0.0                      0.0   \n",
      "\n",
      "   imp_op_var39_comer_ult3  imp_op_var40_comer_ult1  imp_op_var40_comer_ult3  \\\n",
      "0                      0.0                      0.0                      0.0   \n",
      "1                      0.0                      0.0                      0.0   \n",
      "2                      0.0                      0.0                      0.0   \n",
      "3                      0.0                      0.0                      0.0   \n",
      "4                      0.0                      0.0                      0.0   \n",
      "\n",
      "   imp_op_var40_efect_ult1  imp_op_var40_efect_ult3  ...  \\\n",
      "0                      0.0                      0.0  ...   \n",
      "1                      0.0                      0.0  ...   \n",
      "2                      0.0                      0.0  ...   \n",
      "3                      0.0                      0.0  ...   \n",
      "4                      0.0                      0.0  ...   \n",
      "\n",
      "   saldo_medio_var29_ult3  saldo_medio_var33_hace2  saldo_medio_var33_hace3  \\\n",
      "0                     0.0                      0.0                      0.0   \n",
      "1                     0.0                      0.0                      0.0   \n",
      "2                     0.0                      0.0                      0.0   \n",
      "3                     0.0                      0.0                      0.0   \n",
      "4                     0.0                      0.0                      0.0   \n",
      "\n",
      "   saldo_medio_var33_ult1  saldo_medio_var33_ult3  saldo_medio_var44_hace2  \\\n",
      "0                     0.0                     0.0                      0.0   \n",
      "1                     0.0                     0.0                      0.0   \n",
      "2                     0.0                     0.0                      0.0   \n",
      "3                     0.0                     0.0                      0.0   \n",
      "4                     0.0                     0.0                      0.0   \n",
      "\n",
      "   saldo_medio_var44_hace3  saldo_medio_var44_ult1  saldo_medio_var44_ult3  \\\n",
      "0                      0.0                     0.0                     0.0   \n",
      "1                      0.0                     0.0                     0.0   \n",
      "2                      0.0                     0.0                     0.0   \n",
      "3                      0.0                     0.0                     0.0   \n",
      "4                      0.0                     0.0                     0.0   \n",
      "\n",
      "       var38  \n",
      "0   40532.10  \n",
      "1   45486.72  \n",
      "2   46993.95  \n",
      "3  187898.61  \n",
      "4   73649.73  \n",
      "\n",
      "[5 rows x 370 columns]\n",
      "(75818, 370)\n"
     ]
    }
   ],
   "source": [
    "import pandas as pd\n",
    "import numpy as np\n",
    "\n",
    "df = pd.read_csv(kaggle_file_name)\n",
    "kaggle_test_ids = np.array(df[id_name])\n",
    "print(df.head())\n",
    "print(df.shape)\n",
    "\n",
    "df.to_csv(kaggle_test_file_name, index=False)\n",
    "\n",
    "f = open(kaggle_test_file_name)\n",
    "count = 0\n",
    "kaggle_pred = []\n",
    "\n",
    "for line in f:\n",
    "    if count==0:\n",
    "        count=1\n",
    "        continue\n",
    "    response = sm_rt.invoke_endpoint(EndpointName=ep_name, ContentType='text/csv', Accept='text/csv', Body=line.encode('utf-8'))\n",
    "    response = response['Body'].read().decode(\"utf-8\")\n",
    "    test_id = kaggle_test_ids[count-1]\n",
    "    pred = int(response[0])\n",
    "    kaggle_pred.append([test_id, pred])\n",
    "    count = count + 1\n",
    "\n",
    "kaggle_pred_df = pd.DataFrame(kaggle_pred, columns = [id_name, target])\n",
    "\n",
    "kaggle_pred_df.to_csv(kaggle_pred_file_name, index=False)"
   ]
  },
  {
   "cell_type": "code",
   "execution_count": 16,
   "metadata": {},
   "outputs": [
    {
     "name": "stdout",
     "output_type": "stream",
     "text": [
      "   ID  TARGET\n",
      "0   2       0\n",
      "1   5       0\n",
      "2   6       0\n",
      "3   7       0\n",
      "4   9       0\n",
      "(75818, 2)\n"
     ]
    }
   ],
   "source": [
    "print(kaggle_pred_df.head())\n",
    "print(kaggle_pred_df.shape)"
   ]
  },
  {
   "cell_type": "code",
   "execution_count": 17,
   "metadata": {},
   "outputs": [
    {
     "ename": "ClientError",
     "evalue": "An error occurred (ValidationException) when calling the DeleteEndpoint operation: Could not find endpoint \"arn:aws:sagemaker:eu-central-1:438013780556:endpoint/d-scs-model\".",
     "output_type": "error",
     "traceback": [
      "\u001b[0;31m---------------------------------------------------------------------------\u001b[0m",
      "\u001b[0;31mClientError\u001b[0m                               Traceback (most recent call last)",
      "\u001b[0;32m<ipython-input-17-3c57ba060bd7>\u001b[0m in \u001b[0;36m<module>\u001b[0;34m\u001b[0m\n\u001b[1;32m      2\u001b[0m \u001b[0msm\u001b[0m \u001b[0;34m=\u001b[0m \u001b[0mboto3\u001b[0m\u001b[0;34m.\u001b[0m\u001b[0mclient\u001b[0m\u001b[0;34m(\u001b[0m\u001b[0;34m'sagemaker'\u001b[0m\u001b[0;34m)\u001b[0m\u001b[0;34m\u001b[0m\u001b[0;34m\u001b[0m\u001b[0m\n\u001b[1;32m      3\u001b[0m \u001b[0;31m#sm.delete_endpoint_config(EndpointConfigName=endpoint_config_name)\u001b[0m\u001b[0;34m\u001b[0m\u001b[0;34m\u001b[0m\u001b[0;34m\u001b[0m\u001b[0m\n\u001b[0;32m----> 4\u001b[0;31m \u001b[0msm\u001b[0m\u001b[0;34m.\u001b[0m\u001b[0mdelete_endpoint\u001b[0m\u001b[0;34m(\u001b[0m\u001b[0mEndpointName\u001b[0m\u001b[0;34m=\u001b[0m\u001b[0mep_name\u001b[0m\u001b[0;34m)\u001b[0m\u001b[0;34m\u001b[0m\u001b[0;34m\u001b[0m\u001b[0m\n\u001b[0m",
      "\u001b[0;32m/opt/conda/lib/python3.7/site-packages/botocore/client.py\u001b[0m in \u001b[0;36m_api_call\u001b[0;34m(self, *args, **kwargs)\u001b[0m\n\u001b[1;32m    355\u001b[0m                     \"%s() only accepts keyword arguments.\" % py_operation_name)\n\u001b[1;32m    356\u001b[0m             \u001b[0;31m# The \"self\" in this scope is referring to the BaseClient.\u001b[0m\u001b[0;34m\u001b[0m\u001b[0;34m\u001b[0m\u001b[0;34m\u001b[0m\u001b[0m\n\u001b[0;32m--> 357\u001b[0;31m             \u001b[0;32mreturn\u001b[0m \u001b[0mself\u001b[0m\u001b[0;34m.\u001b[0m\u001b[0m_make_api_call\u001b[0m\u001b[0;34m(\u001b[0m\u001b[0moperation_name\u001b[0m\u001b[0;34m,\u001b[0m \u001b[0mkwargs\u001b[0m\u001b[0;34m)\u001b[0m\u001b[0;34m\u001b[0m\u001b[0;34m\u001b[0m\u001b[0m\n\u001b[0m\u001b[1;32m    358\u001b[0m \u001b[0;34m\u001b[0m\u001b[0m\n\u001b[1;32m    359\u001b[0m         \u001b[0m_api_call\u001b[0m\u001b[0;34m.\u001b[0m\u001b[0m__name__\u001b[0m \u001b[0;34m=\u001b[0m \u001b[0mstr\u001b[0m\u001b[0;34m(\u001b[0m\u001b[0mpy_operation_name\u001b[0m\u001b[0;34m)\u001b[0m\u001b[0;34m\u001b[0m\u001b[0;34m\u001b[0m\u001b[0m\n",
      "\u001b[0;32m/opt/conda/lib/python3.7/site-packages/botocore/client.py\u001b[0m in \u001b[0;36m_make_api_call\u001b[0;34m(self, operation_name, api_params)\u001b[0m\n\u001b[1;32m    674\u001b[0m             \u001b[0merror_code\u001b[0m \u001b[0;34m=\u001b[0m \u001b[0mparsed_response\u001b[0m\u001b[0;34m.\u001b[0m\u001b[0mget\u001b[0m\u001b[0;34m(\u001b[0m\u001b[0;34m\"Error\"\u001b[0m\u001b[0;34m,\u001b[0m \u001b[0;34m{\u001b[0m\u001b[0;34m}\u001b[0m\u001b[0;34m)\u001b[0m\u001b[0;34m.\u001b[0m\u001b[0mget\u001b[0m\u001b[0;34m(\u001b[0m\u001b[0;34m\"Code\"\u001b[0m\u001b[0;34m)\u001b[0m\u001b[0;34m\u001b[0m\u001b[0;34m\u001b[0m\u001b[0m\n\u001b[1;32m    675\u001b[0m             \u001b[0merror_class\u001b[0m \u001b[0;34m=\u001b[0m \u001b[0mself\u001b[0m\u001b[0;34m.\u001b[0m\u001b[0mexceptions\u001b[0m\u001b[0;34m.\u001b[0m\u001b[0mfrom_code\u001b[0m\u001b[0;34m(\u001b[0m\u001b[0merror_code\u001b[0m\u001b[0;34m)\u001b[0m\u001b[0;34m\u001b[0m\u001b[0;34m\u001b[0m\u001b[0m\n\u001b[0;32m--> 676\u001b[0;31m             \u001b[0;32mraise\u001b[0m \u001b[0merror_class\u001b[0m\u001b[0;34m(\u001b[0m\u001b[0mparsed_response\u001b[0m\u001b[0;34m,\u001b[0m \u001b[0moperation_name\u001b[0m\u001b[0;34m)\u001b[0m\u001b[0;34m\u001b[0m\u001b[0;34m\u001b[0m\u001b[0m\n\u001b[0m\u001b[1;32m    677\u001b[0m         \u001b[0;32melse\u001b[0m\u001b[0;34m:\u001b[0m\u001b[0;34m\u001b[0m\u001b[0;34m\u001b[0m\u001b[0m\n\u001b[1;32m    678\u001b[0m             \u001b[0;32mreturn\u001b[0m \u001b[0mparsed_response\u001b[0m\u001b[0;34m\u001b[0m\u001b[0;34m\u001b[0m\u001b[0m\n",
      "\u001b[0;31mClientError\u001b[0m: An error occurred (ValidationException) when calling the DeleteEndpoint operation: Could not find endpoint \"arn:aws:sagemaker:eu-central-1:438013780556:endpoint/d-scs-model\"."
     ]
    }
   ],
   "source": [
    "import boto3\n",
    "sm = boto3.client('sagemaker')\n",
    "#sm.delete_endpoint_config(EndpointConfigName=endpoint_config_name)\n",
    "sm.delete_endpoint(EndpointName=ep_name)"
   ]
  },
  {
   "cell_type": "code",
   "execution_count": null,
   "metadata": {},
   "outputs": [],
   "source": []
  }
 ],
 "metadata": {
  "instance_type": "ml.t3.medium",
  "kernelspec": {
   "display_name": "Python 3 (Data Science)",
   "language": "python",
   "name": "python3__SAGEMAKER_INTERNAL__arn:aws:sagemaker:eu-central-1:936697816551:image/datascience-1.0"
  },
  "language_info": {
   "codemirror_mode": {
    "name": "ipython",
    "version": 3
   },
   "file_extension": ".py",
   "mimetype": "text/x-python",
   "name": "python",
   "nbconvert_exporter": "python",
   "pygments_lexer": "ipython3",
   "version": "3.7.10"
  }
 },
 "nbformat": 4,
 "nbformat_minor": 4
}
