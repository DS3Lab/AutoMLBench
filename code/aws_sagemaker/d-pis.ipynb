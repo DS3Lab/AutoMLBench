{
 "cells": [
  {
   "cell_type": "code",
   "execution_count": 13,
   "metadata": {},
   "outputs": [],
   "source": [
    "import sagemaker\n",
    "import boto3\n",
    "from sagemaker import get_execution_role"
   ]
  },
  {
   "cell_type": "code",
   "execution_count": 21,
   "metadata": {},
   "outputs": [],
   "source": [
    "region = boto3.Session().region_name\n",
    "sm_rt = boto3.Session().client('runtime.sagemaker', region_name=region)\n",
    "\n",
    "ep_name = 'd-pis-model'\n",
    "id_name = 'Id'\n",
    "target = 'Choice'\n",
    "\n",
    "file_name = \"./d-pis/test_Influencers in Social Networks.csv\"\n",
    "test_file_name = \"./d-pis/test_Influencers in Social Networks-no-label.csv\"\n",
    "\n",
    "kaggle_file_name = \"./d-pis/kaggle-test-Influencers in Social Networks.csv\"\n",
    "kaggle_test_file_name = \"./d-pis/kaggle-test-Influencers in Social Networks-no-label.csv\"\n",
    "\n",
    "kaggle_pred_file_name = \"./d-pis/kaggle-test-Influencers in Social Networks-predictions.csv\""
   ]
  },
  {
   "cell_type": "code",
   "execution_count": 22,
   "metadata": {},
   "outputs": [
    {
     "name": "stdout",
     "output_type": "stream",
     "text": [
      "   A_follower_count  A_following_count  A_listed_count  A_mentions_received  \\\n",
      "0           6085071                 67           30758         10357.245163   \n",
      "1              3741               1635             242             0.565491   \n",
      "2               867                413              52            10.906349   \n",
      "3               279                 40              15             0.294044   \n",
      "4              5996                906             192            15.050208   \n",
      "\n",
      "   A_retweets_received  A_mentions_sent  A_retweets_sent   A_posts  \\\n",
      "0          5215.953047         0.100503         0.100503  0.100503   \n",
      "1             0.316668         0.100503         0.100503  0.351840   \n",
      "2             2.359024         3.975177         1.124418  2.635947   \n",
      "3             0.294044         0.100503         0.100503  0.100503   \n",
      "4             3.330828         0.837169         0.349327  0.588346   \n",
      "\n",
      "   A_network_feature_1  A_network_feature_2  ...  B_following_count  \\\n",
      "0                32871            10.018526  ...                  5   \n",
      "1                    2             0.000000  ...               1943   \n",
      "2                   32            66.911765  ...                148   \n",
      "3                    1             1.000000  ...                551   \n",
      "4                   68            50.647059  ...                160   \n",
      "\n",
      "   B_listed_count  B_mentions_received  B_retweets_received  B_mentions_sent  \\\n",
      "0           37841           557.729241           195.417690         0.100503   \n",
      "1              70             0.756843             0.100503         0.334766   \n",
      "2               8             0.758307             0.100503         0.100503   \n",
      "3             221             5.079484             1.053505         2.089794   \n",
      "4             447             2.928975             0.880197         0.100503   \n",
      "\n",
      "   B_retweets_sent   B_posts  B_network_feature_1  B_network_feature_2  \\\n",
      "0         0.100503  0.100503                 2391            62.333880   \n",
      "1         0.100503  1.328776                    3            74.666667   \n",
      "2         0.100503  0.100503                    3           205.000000   \n",
      "3         0.837439  1.347755                   16            23.176471   \n",
      "4         0.100503  0.590859                    9            19.500000   \n",
      "\n",
      "   B_network_feature_3  \n",
      "0          3537.859311  \n",
      "1          2346.333333  \n",
      "2          3922.666667  \n",
      "3           755.117647  \n",
      "4          1779.700000  \n",
      "\n",
      "[5 rows x 22 columns]\n",
      "(550, 22)\n"
     ]
    }
   ],
   "source": [
    "import pandas as pd\n",
    "import numpy as np\n",
    "\n",
    "df = pd.read_csv(file_name)\n",
    "df = df.drop([target],axis=1) \n",
    "print(df.head())\n",
    "print(df.shape)\n",
    "\n",
    "df.to_csv(test_file_name, index=False)"
   ]
  },
  {
   "cell_type": "code",
   "execution_count": 16,
   "metadata": {},
   "outputs": [],
   "source": [
    "f = open(test_file_name)\n",
    "\n",
    "count = 0\n",
    "pred_label = []\n",
    "pred_neg_prpb = []\n",
    "pred_pos_prpb = []\n",
    "\n",
    "for line in f:\n",
    "    if count==0:\n",
    "        count=1\n",
    "        continue\n",
    "    response = sm_rt.invoke_endpoint(EndpointName=ep_name, ContentType='text/csv', Accept='text/csv', Body=line.encode('utf-8'))\n",
    "    response = response['Body'].read().decode(\"utf-8\")\n",
    "    pred_label.append(int(response[0]))\n",
    "    ind1 = response.index(\"[\")\n",
    "    ind2 = response.index(\",\", ind1)\n",
    "    neg_prob = float(response[ind1+1:ind2])\n",
    "    pred_neg_prpb.append(neg_prob)\n",
    "    ind1 = response.index(\"]\", ind2)\n",
    "    pos_prob = float(response[ind2+2:ind1])\n",
    "    pred_pos_prpb.append(pos_prob)\n",
    "    count = count + 1\n"
   ]
  },
  {
   "cell_type": "code",
   "execution_count": 19,
   "metadata": {},
   "outputs": [
    {
     "name": "stdout",
     "output_type": "stream",
     "text": [
      "[0, 1, 1, 0, 1, 0, 1, 1, 0, 0]\n",
      "[0.9984276110772043, 0.024759650230407715, 0.15189796686172485, 0.9975453952793032, 0.09736382961273193, 0.995651709381491, 1.2040138244628906e-05, 0.005163669586181641, 0.8260233104228973, 0.9147557765245438]\n",
      "[0.0015723889227956533, 0.9752403497695923, 0.8481020331382751, 0.002454604720696807, 0.9026361703872681, 0.004348290618509054, 0.9999879598617554, 0.9948363304138184, 0.17397668957710266, 0.08524422347545624]\n",
      "accuracy = 0.8654545454545455\n",
      "auc = 0.935562579348286\n"
     ]
    }
   ],
   "source": [
    "print(pred_label[:10])\n",
    "print(pred_neg_prpb[:10])\n",
    "print(pred_pos_prpb[:10])\n",
    "\n",
    "import pandas as pd\n",
    "import numpy as np\n",
    "\n",
    "pd = pd.read_csv(file_name)\n",
    "y_true = np.array(pd[target])\n",
    "y_pred = np.array(pred_label)\n",
    "print(\"accuracy = {}\".format(np.mean(y_true==y_pred)))\n",
    "\n",
    "from sklearn import metrics\n",
    "fpr, tpr, thresholds = metrics.roc_curve(y_true, pred_pos_prpb, pos_label=1)\n",
    "print(\"auc = {}\".format(metrics.auc(fpr, tpr)))"
   ]
  },
  {
   "cell_type": "code",
   "execution_count": 29,
   "metadata": {},
   "outputs": [
    {
     "name": "stdout",
     "output_type": "stream",
     "text": [
      "   A_follower_count  A_following_count  A_listed_count  A_mentions_received  \\\n",
      "0            614689                400            5729           199.618296   \n",
      "1            739581              10723            1279           102.026750   \n",
      "2              3638               3341              85             2.793577   \n",
      "3               613               1259              31             1.326041   \n",
      "4           1352348                331           15647         19129.848662   \n",
      "\n",
      "   A_retweets_received  A_mentions_sent  A_retweets_sent    A_posts  \\\n",
      "0            67.812469         9.366192         0.359534   4.094488   \n",
      "1            96.771319         1.537322         1.054358   3.467754   \n",
      "2             1.402703         2.594089         0.598150   3.802143   \n",
      "3             0.356943         6.249678         2.323064   7.488116   \n",
      "4         14552.733991         2.065418         0.580955  16.281502   \n",
      "\n",
      "   A_network_feature_1  A_network_feature_2  ...  B_following_count  \\\n",
      "0                  669            39.193741  ...                563   \n",
      "1                  432            11.191686  ...              12949   \n",
      "2                   11             9.416667  ...                320   \n",
      "3                    4             5.000000  ...               3599   \n",
      "4                52580             3.092448  ...             147521   \n",
      "\n",
      "   B_listed_count  B_mentions_received  B_retweets_received  B_mentions_sent  \\\n",
      "0           20057           967.720642           579.431128         4.473798   \n",
      "1            1311            38.260522            10.697567        12.845793   \n",
      "2            3673          1207.190077           599.721600         0.842022   \n",
      "3            1072            10.300222             3.828561         1.624092   \n",
      "4           15043          9902.070379          5012.055876        10.438460   \n",
      "\n",
      "   B_retweets_sent     B_posts  B_network_feature_1  B_network_feature_2  \\\n",
      "0         0.805680    6.241806                 4027            57.643839   \n",
      "1         1.584284   12.106662                  144           209.717241   \n",
      "2         0.593199    7.044735                 3918             7.859818   \n",
      "3         0.100503    1.614287                   43           113.840909   \n",
      "4         0.100503  193.072418                28564            10.964144   \n",
      "\n",
      "   B_network_feature_3  \n",
      "0          3201.293706  \n",
      "1         21496.565517  \n",
      "2           637.983300  \n",
      "3          2537.772727  \n",
      "4          1035.955493  \n",
      "\n",
      "[5 rows x 22 columns]\n",
      "(5952, 22)\n",
      "[[1, 0.2525167465209961], [2, 0.518421471118927], [3, 0.006975553929805756], [4, 0.04890737310051918], [5, 0.0851208046078682], [6, 0.004309260752052069], [7, 0.9022892117500305], [8, 0.9999867677688599], [9, 0.00025888485834002495], [10, 0.9968560934066772]]\n",
      "[0.7474832534790039, 0.481578528881073, 0.9930244460701942, 0.9510926268994808, 0.9148791953921318, 0.9956907392479479, 0.09771078824996948, 1.3232231140136719e-05, 0.99974111514166, 0.003143906593322754]\n",
      "[0.2525167465209961, 0.518421471118927, 0.006975553929805756, 0.04890737310051918, 0.0851208046078682, 0.004309260752052069, 0.9022892117500305, 0.9999867677688599, 0.00025888485834002495, 0.9968560934066772]\n"
     ]
    }
   ],
   "source": [
    "import pandas as pd\n",
    "import numpy as np\n",
    "\n",
    "df = pd.read_csv(kaggle_file_name)\n",
    "\n",
    "#kaggle_test_ids = np.array(df[id_name])\n",
    "#df = df.drop([id_name],axis=1) \n",
    "\n",
    "print(df.head())\n",
    "print(df.shape)\n",
    "\n",
    "df.to_csv(kaggle_test_file_name, index=False)\n",
    "\n",
    "f = open(kaggle_test_file_name)\n",
    "count = 0\n",
    "kaggle_pred = []\n",
    "pred_neg_prpb = []\n",
    "pred_pos_prpb = []\n",
    "\n",
    "for line in f:\n",
    "    if count == 0:\n",
    "        count = 1\n",
    "        continue\n",
    "    response = sm_rt.invoke_endpoint(EndpointName=ep_name, ContentType='text/csv', Accept='text/csv', Body=line.encode('utf-8'))\n",
    "    response = response['Body'].read().decode(\"utf-8\")\n",
    "\n",
    "    ind1 = response.index(\"[\")\n",
    "    ind2 = response.index(\",\", ind1)\n",
    "    neg_prob = float(response[ind1+1:ind2])\n",
    "    pred_neg_prpb.append(neg_prob)\n",
    "    ind1 = response.index(\"]\", ind2)\n",
    "    pos_prob = float(response[ind2+2:ind1])\n",
    "    pred_pos_prpb.append(pos_prob)   \n",
    "    \n",
    "    test_id = count\n",
    "    #pred = int(response[0])\n",
    "    kaggle_pred.append([test_id, pos_prob])   \n",
    "    count = count + 1\n",
    "\n",
    "print(kaggle_pred[0:10])\n",
    "print(pred_neg_prpb[:10])\n",
    "print(pred_pos_prpb[:10])\n",
    "\n",
    "\n",
    "kaggle_pred_df = pd.DataFrame(kaggle_pred, columns = [id_name, target])\n",
    "\n",
    "kaggle_pred_df.to_csv(kaggle_pred_file_name, index=False)"
   ]
  },
  {
   "cell_type": "code",
   "execution_count": 30,
   "metadata": {},
   "outputs": [
    {
     "data": {
      "text/plain": [
       "{'ResponseMetadata': {'RequestId': '3b962f0e-0785-4f4a-bdbc-7d8e3a7f9b60',\n",
       "  'HTTPStatusCode': 200,\n",
       "  'HTTPHeaders': {'x-amzn-requestid': '3b962f0e-0785-4f4a-bdbc-7d8e3a7f9b60',\n",
       "   'content-type': 'application/x-amz-json-1.1',\n",
       "   'content-length': '0',\n",
       "   'date': 'Tue, 23 Mar 2021 16:51:39 GMT'},\n",
       "  'RetryAttempts': 0}}"
      ]
     },
     "execution_count": 30,
     "metadata": {},
     "output_type": "execute_result"
    }
   ],
   "source": [
    "import boto3\n",
    "sm = boto3.client('sagemaker')\n",
    "#sm.delete_endpoint_config(EndpointConfigName=endpoint_config_name)\n",
    "sm.delete_endpoint(EndpointName=ep_name)"
   ]
  },
  {
   "cell_type": "code",
   "execution_count": null,
   "metadata": {},
   "outputs": [],
   "source": []
  }
 ],
 "metadata": {
  "instance_type": "ml.t3.medium",
  "kernelspec": {
   "display_name": "Python 3",
   "language": "python",
   "name": "python3"
  },
  "language_info": {
   "codemirror_mode": {
    "name": "ipython",
    "version": 3
   },
   "file_extension": ".py",
   "mimetype": "text/x-python",
   "name": "python",
   "nbconvert_exporter": "python",
   "pygments_lexer": "ipython3",
   "version": "3.7.3"
  }
 },
 "nbformat": 4,
 "nbformat_minor": 4
}
