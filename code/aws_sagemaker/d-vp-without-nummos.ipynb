{
 "cells": [
  {
   "cell_type": "code",
   "execution_count": 12,
   "metadata": {},
   "outputs": [],
   "source": [
    "import sagemaker\n",
    "import boto3\n",
    "from sagemaker import get_execution_role"
   ]
  },
  {
   "cell_type": "code",
   "execution_count": 13,
   "metadata": {},
   "outputs": [],
   "source": [
    "region = boto3.Session().region_name\n",
    "sm_rt = boto3.Session().client('runtime.sagemaker', region_name=region)\n",
    "\n",
    "ep_name = 'd-vp-model-without-NumMos'\n",
    "id_name = \"Id\"\n",
    "target = 'WnvPresent'\n",
    "nummos_col = \"NumMosquitos\"\n",
    "\n",
    "file_name = \"./d-vp/test_West-Nile Virus Prediction.csv\"\n",
    "test_file_name = \"./d-vp/test_West-Nile-Virus-Prediction-without-nummos-no-label.csv\"\n",
    "\n",
    "kaggle_file_name = \"./d-vp/kaggle-test-West Nile Virus Prediction.csv\"\n",
    "kaggle_test_file_name = \"./d-vp/kaggle-test-West Nile Virus Prediction-without-nummos-no-label.csv\"\n",
    "kaggle_pred_file_name = \"./d-vp/kaggle-test-West Nile Virus Prediction-without-nummos-predictions.csv\""
   ]
  },
  {
   "cell_type": "code",
   "execution_count": 14,
   "metadata": {},
   "outputs": [
    {
     "name": "stdout",
     "output_type": "stream",
     "text": [
      "         Date                                            Address  \\\n",
      "0  2009-09-17       South Brandon Avenue, Chicago, IL 60617, USA   \n",
      "1  2011-08-19  2800 North Francisco Avenue, Chicago, IL 60618...   \n",
      "2  2007-08-24   8000 South Kedzie Avenue, Chicago, IL 60652, USA   \n",
      "3  2007-06-29       4200 West 127th Street, Alsip, IL 60803, USA   \n",
      "4  2007-07-25        South Stony Island Avenue, Chicago, IL, USA   \n",
      "\n",
      "                  Species  Block               Street  Trap  \\\n",
      "0  CULEX PIPIENS/RESTUANS     13            S BRANDON  T209   \n",
      "1           CULEX PIPIENS     28      N FRANCISCO AVE  T147   \n",
      "2  CULEX PIPIENS/RESTUANS     80         S KEDZIE AVE  T072   \n",
      "3          CULEX RESTUANS     42           W 127TH PL  T135   \n",
      "4           CULEX PIPIENS     10   S STONY ISLAND AVE  T138   \n",
      "\n",
      "                  AddressNumberAndStreet   Latitude  Longitude  \\\n",
      "0           1300  S BRANDON, Chicago, IL  41.740641 -87.546587   \n",
      "1     2800  N FRANCISCO AVE, Chicago, IL  41.932094 -87.700117   \n",
      "2        8000  S KEDZIE AVE, Chicago, IL  41.747850 -87.702716   \n",
      "3          4200  W 127TH PL, Chicago, IL  41.662014 -87.724608   \n",
      "4  1000  S STONY ISLAND AVE, Chicago, IL  41.726465 -87.585413   \n",
      "\n",
      "   AddressAccuracy  \n",
      "0                5  \n",
      "1                8  \n",
      "2                9  \n",
      "3                8  \n",
      "4                5  \n",
      "(1051, 10)\n"
     ]
    }
   ],
   "source": [
    "import pandas as pd\n",
    "import numpy as np\n",
    "\n",
    "df = pd.read_csv(file_name)\n",
    "\n",
    "df = df.drop([target, nummos_col],axis=1) \n",
    "print(df.head())\n",
    "print(df.shape)\n",
    "\n",
    "df.to_csv(test_file_name, index=False)"
   ]
  },
  {
   "cell_type": "code",
   "execution_count": 15,
   "metadata": {},
   "outputs": [],
   "source": [
    "f = open(test_file_name)\n",
    "count = 0\n",
    "pred_label = []\n",
    "pred_neg_prpb = []\n",
    "pred_pos_prpb = []\n",
    "\n",
    "for line in f:\n",
    "    if count==0:\n",
    "        count=1\n",
    "        continue\n",
    "    response = sm_rt.invoke_endpoint(EndpointName=ep_name, ContentType='text/csv', Accept='text/csv', Body=line.encode('utf-8'))\n",
    "    response = response['Body'].read().decode(\"utf-8\")\n",
    "    #print(response)\n",
    "    pred_label.append(int(response[0]))\n",
    "    ind1 = response.index(\"[\")\n",
    "    ind2 = response.index(\",\", ind1)\n",
    "    neg_prob = float(response[ind1+1:ind2])\n",
    "    #print(neg_prob)\n",
    "    pred_neg_prpb.append(neg_prob)\n",
    "    ind1 = response.index(\"]\", ind2)\n",
    "    pos_prob = float(response[ind2+2:ind1])\n",
    "    #print(pos_prob)\n",
    "    pred_pos_prpb.append(pos_prob)    \n"
   ]
  },
  {
   "cell_type": "code",
   "execution_count": 16,
   "metadata": {},
   "outputs": [
    {
     "name": "stdout",
     "output_type": "stream",
     "text": [
      "[0, 0, 0, 0, 0, 1, 0, 0, 1, 0]\n",
      "[0.9969771758187562, 0.6697038114070892, 0.5650212466716766, 0.9988932299893349, 0.9667103327810764, 0.18216443061828613, 0.505611926317215, 0.9988576810574159, 0.4585828185081482, 0.8184832483530045]\n",
      "[0.0030228241812437773, 0.33029618859291077, 0.43497875332832336, 0.001106770010665059, 0.03328966721892357, 0.8178355693817139, 0.49438807368278503, 0.0011423189425840974, 0.5414171814918518, 0.18151675164699554]\n",
      "0.8867745004757374\n"
     ]
    },
    {
     "data": {
      "text/plain": [
       "0.8996293128029655"
      ]
     },
     "execution_count": 16,
     "metadata": {},
     "output_type": "execute_result"
    }
   ],
   "source": [
    "print(pred_label[:10])\n",
    "print(pred_neg_prpb[:10])\n",
    "print(pred_pos_prpb[:10])\n",
    "\n",
    "import pandas as pd\n",
    "import numpy as np\n",
    "pd = pd.read_csv(file_name)\n",
    "y_true = np.array(pd[target])\n",
    "y_pred = np.array(pred_label)\n",
    "print(np.mean(y_true==y_pred))\n",
    "\n",
    "from sklearn import metrics\n",
    "#fpr, tpr, thresholds = metrics.roc_curve(y_true, pred_pos_prpb, pos_label=1)\n",
    "#metrics.auc(fpr, tpr)\n",
    "metrics.roc_auc_score(y_true, pred_pos_prpb)"
   ]
  },
  {
   "cell_type": "code",
   "execution_count": 22,
   "metadata": {},
   "outputs": [
    {
     "name": "stdout",
     "output_type": "stream",
     "text": [
      "         Date                                            Address  \\\n",
      "0  2008-06-11  4100 North Oak Park Avenue, Chicago, IL 60634,...   \n",
      "1  2008-06-11  4100 North Oak Park Avenue, Chicago, IL 60634,...   \n",
      "2  2008-06-11  4100 North Oak Park Avenue, Chicago, IL 60634,...   \n",
      "3  2008-06-11  4100 North Oak Park Avenue, Chicago, IL 60634,...   \n",
      "4  2008-06-11  4100 North Oak Park Avenue, Chicago, IL 60634,...   \n",
      "\n",
      "                  Species  Block           Street  Trap  \\\n",
      "0  CULEX PIPIENS/RESTUANS     41   N OAK PARK AVE  T002   \n",
      "1          CULEX RESTUANS     41   N OAK PARK AVE  T002   \n",
      "2           CULEX PIPIENS     41   N OAK PARK AVE  T002   \n",
      "3        CULEX SALINARIUS     41   N OAK PARK AVE  T002   \n",
      "4         CULEX TERRITANS     41   N OAK PARK AVE  T002   \n",
      "\n",
      "              AddressNumberAndStreet  Latitude  Longitude  AddressAccuracy  \n",
      "0  4100  N OAK PARK AVE, Chicago, IL  41.95469 -87.800991                9  \n",
      "1  4100  N OAK PARK AVE, Chicago, IL  41.95469 -87.800991                9  \n",
      "2  4100  N OAK PARK AVE, Chicago, IL  41.95469 -87.800991                9  \n",
      "3  4100  N OAK PARK AVE, Chicago, IL  41.95469 -87.800991                9  \n",
      "4  4100  N OAK PARK AVE, Chicago, IL  41.95469 -87.800991                9  \n",
      "(116293, 10)\n"
     ]
    }
   ],
   "source": [
    "import pandas as pd\n",
    "import numpy as np\n",
    "\n",
    "df = pd.read_csv(kaggle_file_name)\n",
    "kaggle_test_ids = np.array(df[id_name])\n",
    "\n",
    "df = df.drop([id_name],axis=1) \n",
    "print(df.head())\n",
    "print(df.shape)\n",
    "\n",
    "df.to_csv(kaggle_test_file_name, index=False)"
   ]
  },
  {
   "cell_type": "code",
   "execution_count": 23,
   "metadata": {},
   "outputs": [],
   "source": [
    "f = open(kaggle_test_file_name)\n",
    "count = 0\n",
    "kaggle_pred = []\n",
    "\n",
    "for line in f:\n",
    "    if count==0:\n",
    "        count=1\n",
    "        continue\n",
    "    response = sm_rt.invoke_endpoint(EndpointName=ep_name, ContentType='text/csv', Accept='text/csv', Body=line.encode('utf-8'))\n",
    "    response = response['Body'].read().decode(\"utf-8\")\n",
    "    test_id = kaggle_test_ids[count-1]\n",
    "    pred = int(response[0])\n",
    "    kaggle_pred.append([test_id, pred])\n",
    "    count = count + 1\n",
    "\n",
    "kaggle_pred_df = pd.DataFrame(kaggle_pred, columns = [id_name, target])\n",
    "\n",
    "kaggle_pred_df.to_csv(kaggle_pred_file_name, index=False)"
   ]
  },
  {
   "cell_type": "code",
   "execution_count": 25,
   "metadata": {},
   "outputs": [
    {
     "name": "stdout",
     "output_type": "stream",
     "text": [
      "   Id  WnvPresent\n",
      "0   1           0\n",
      "1   2           0\n",
      "2   3           0\n",
      "3   4           0\n",
      "4   5           0\n",
      "(116293, 2)\n"
     ]
    }
   ],
   "source": [
    "print(kaggle_pred_df.head())\n",
    "print(kaggle_pred_df.shape)"
   ]
  },
  {
   "cell_type": "code",
   "execution_count": 26,
   "metadata": {},
   "outputs": [
    {
     "data": {
      "text/plain": [
       "{'ResponseMetadata': {'RequestId': '4a1d8524-4cf0-4e02-a22d-ade6bfb9ada1',\n",
       "  'HTTPStatusCode': 200,\n",
       "  'HTTPHeaders': {'x-amzn-requestid': '4a1d8524-4cf0-4e02-a22d-ade6bfb9ada1',\n",
       "   'content-type': 'application/x-amz-json-1.1',\n",
       "   'content-length': '0',\n",
       "   'date': 'Wed, 24 Mar 2021 13:27:53 GMT'},\n",
       "  'RetryAttempts': 0}}"
      ]
     },
     "execution_count": 26,
     "metadata": {},
     "output_type": "execute_result"
    }
   ],
   "source": [
    "import boto3\n",
    "sm = boto3.client('sagemaker')\n",
    "#sm.delete_endpoint_config(EndpointConfigName=endpoint_config_name)\n",
    "sm.delete_endpoint(EndpointName=ep_name)"
   ]
  },
  {
   "cell_type": "code",
   "execution_count": null,
   "metadata": {},
   "outputs": [],
   "source": []
  }
 ],
 "metadata": {
  "instance_type": "ml.t3.medium",
  "kernelspec": {
   "display_name": "Python 3 (Data Science)",
   "language": "python",
   "name": "python3__SAGEMAKER_INTERNAL__arn:aws:sagemaker:eu-central-1:936697816551:image/datascience-1.0"
  },
  "language_info": {
   "codemirror_mode": {
    "name": "ipython",
    "version": 3
   },
   "file_extension": ".py",
   "mimetype": "text/x-python",
   "name": "python",
   "nbconvert_exporter": "python",
   "pygments_lexer": "ipython3",
   "version": "3.7.10"
  }
 },
 "nbformat": 4,
 "nbformat_minor": 4
}
