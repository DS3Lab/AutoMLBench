{
 "cells": [
  {
   "cell_type": "code",
   "execution_count": 1,
   "metadata": {},
   "outputs": [],
   "source": [
    "import sagemaker\n",
    "import boto3\n",
    "from sagemaker import get_execution_role"
   ]
  },
  {
   "cell_type": "code",
   "execution_count": 4,
   "metadata": {},
   "outputs": [],
   "source": [
    "region = boto3.Session().region_name\n",
    "sm_rt = boto3.Session().client('runtime.sagemaker', region_name=region)\n",
    "\n",
    "ep_name = 'higgs-model'\n",
    "id_name = ''\n",
    "target = 'target'\n",
    "\n",
    "file_name = \"higgs-test.csv\"\n",
    "test_file_name = \"higgs-test-no-label.csv\"\n",
    "\n",
    "kaggle_file_name = \"\"\n",
    "kaggle_test_file_name = \"\"\n",
    "kaggle_pred_file_name = \"\""
   ]
  },
  {
   "cell_type": "code",
   "execution_count": 5,
   "metadata": {},
   "outputs": [
    {
     "name": "stdout",
     "output_type": "stream",
     "text": [
      "          0         1         2         3         4         5         6  \\\n",
      "0  0.708977  0.809314 -0.795915  1.084997 -1.616814  0.838023 -0.862516   \n",
      "1  1.171258  1.367398  1.558467  0.351138 -0.317505  1.057605  1.210036   \n",
      "2  0.568609  0.350575 -0.703808  1.160556  0.563964  0.548727 -0.328782   \n",
      "3  0.993922 -0.205562  0.717852  1.371067  1.432809  0.580057 -0.892223   \n",
      "4  0.573734  0.671984  0.385490  0.959637  1.013402  0.520879 -0.820926   \n",
      "\n",
      "          7         8         9  ...        18        19        20        21  \\\n",
      "0  0.108818  0.000000  1.428375  ... -0.183682  0.685155  3.101961  0.791857   \n",
      "1 -0.905239  0.000000  0.512175  ...  1.210464  0.725109  3.101961  0.885917   \n",
      "2  0.657096  1.086538  1.012768  ... -0.718354 -0.860381  0.000000  0.949572   \n",
      "3 -0.568179  0.000000  0.968324  ... -2.024221 -1.450807  0.000000  1.137170   \n",
      "4  1.404394  0.000000  1.342635  ... -1.959261 -1.033513  0.000000  0.980800   \n",
      "\n",
      "         22        23        24        25        26        27  \n",
      "0  1.095592  0.987301  0.793848  1.287900  0.830654  0.770904  \n",
      "1  1.105865  0.985820  0.722594  0.605239  0.885044  0.761214  \n",
      "2  0.991589  1.023970  0.894119  0.790420  0.846068  0.755401  \n",
      "3  1.127380  0.986683  0.840103  0.976534  0.897708  0.924401  \n",
      "4  0.855231  0.987237  1.093825  1.449599  1.284685  1.368693  \n",
      "\n",
      "[5 rows x 28 columns]\n",
      "(18673, 28)\n"
     ]
    }
   ],
   "source": [
    "import pandas as pd\n",
    "import numpy as np\n",
    "\n",
    "df = pd.read_csv(file_name)\n",
    "df = df.drop([target],axis=1) \n",
    "print(df.head())\n",
    "print(df.shape)\n",
    "\n",
    "df.to_csv(test_file_name, index=False)"
   ]
  },
  {
   "cell_type": "code",
   "execution_count": null,
   "metadata": {},
   "outputs": [],
   "source": [
    "f = open(test_file_name)\n",
    "count = 0\n",
    "pred_label = []\n",
    "pred_neg_prpb = []\n",
    "pred_pos_prpb = []\n",
    "\n",
    "for line in f:\n",
    "    if count==0:\n",
    "        count=1\n",
    "        continue\n",
    "    response = sm_rt.invoke_endpoint(EndpointName=ep_name, ContentType='text/csv', Accept='text/csv', Body=line.encode('utf-8'))\n",
    "    response = response['Body'].read().decode(\"utf-8\")\n",
    "    #print(response)\n",
    "    pred_label.append(int(response[0]))\n",
    "    ind1 = response.index(\"[\")\n",
    "    ind2 = response.index(\",\", ind1)\n",
    "    neg_prob = float(response[ind1+1:ind2])\n",
    "    #print(neg_prob)\n",
    "    pred_neg_prpb.append(neg_prob)\n",
    "    ind1 = response.index(\"]\", ind2)\n",
    "    pos_prob = float(response[ind2+2:ind1])\n",
    "    #print(pos_prob)\n",
    "    pred_pos_prpb.append(pos_prob)\n",
    "    count = count + 1\n"
   ]
  },
  {
   "cell_type": "code",
   "execution_count": 13,
   "metadata": {},
   "outputs": [
    {
     "name": "stdout",
     "output_type": "stream",
     "text": [
      "[1, 1, 0, 1, 0, 1, 0, 0, 0, 0, 0, 0, 0, 0, 0, 0, 1, 0, 1, 0]\n",
      "[0.4833853244781494, 0.49245959520339966, 0.785319983959198, 0.47368091344833374, 0.7433342933654785, 0.44757533073425293, 0.7421001195907593, 0.6170697510242462, 0.8312297761440277, 0.5649320483207703, 0.7586535513401031, 0.626697838306427, 0.7636849880218506, 0.5302917063236237, 0.6658933460712433, 0.633270651102066, 0.32318103313446045, 0.5592995882034302, 0.4304666519165039, 0.9085303246974945]\n",
      "[0.5166146755218506, 0.5075404047966003, 0.214680016040802, 0.5263190865516663, 0.2566657066345215, 0.5524246692657471, 0.2578998804092407, 0.3829302489757538, 0.1687702238559723, 0.43506795167922974, 0.24134644865989685, 0.373302161693573, 0.23631501197814941, 0.46970829367637634, 0.3341066539287567, 0.36672934889793396, 0.6768189668655396, 0.4407004117965698, 0.5695333480834961, 0.0914696753025055]\n",
      "test accuracy = 0.7109317495367903\n",
      "test auc = 0.7144683065669621\n"
     ]
    }
   ],
   "source": [
    "print(pred_label[:20])\n",
    "print(pred_neg_prpb[:20])\n",
    "print(pred_pos_prpb[:20])\n",
    "\n",
    "\n",
    "import pandas as pd\n",
    "import numpy as np\n",
    "pd = pd.read_csv(file_name)\n",
    "y_true = np.array(pd[target])\n",
    "y_pred = np.array(pred_label)\n",
    "print(\"test accuracy = {}\".format(np.mean(y_true==y_pred)))\n",
    "\n",
    "from sklearn import metrics\n",
    "fpr, tpr, thresholds = metrics.roc_curve(y_true, pred_pos_prpb, pos_label=1)\n",
    "print(\"test auc = {}\".format(metrics.auc(fpr, tpr)))"
   ]
  },
  {
   "cell_type": "code",
   "execution_count": 12,
   "metadata": {},
   "outputs": [
    {
     "name": "stdout",
     "output_type": "stream",
     "text": [
      "   RESOURCE  MGR_ID  ROLE_ROLLUP_1  ROLE_ROLLUP_2  ROLE_DEPTNAME  ROLE_TITLE  \\\n",
      "0     78766   72734         118079         118080         117878      117879   \n",
      "1     40644    4378         117961         118327         118507      118863   \n",
      "2     75443    2395         117961         118300         119488      118172   \n",
      "3     43219   19986         117961         118225         118403      120773   \n",
      "4     42093   50015         117961         118343         119598      118422   \n",
      "\n",
      "   ROLE_FAMILY_DESC  ROLE_FAMILY  ROLE_CODE  \n",
      "0            118177        19721     117880  \n",
      "1            122008       118398     118865  \n",
      "2            301534       249618     118175  \n",
      "3            136187       118960     120774  \n",
      "4            300136       118424     118425  \n",
      "(58921, 9)\n"
     ]
    }
   ],
   "source": [
    "import pandas as pd\n",
    "import numpy as np\n",
    "\n",
    "df = pd.read_csv(kaggle_file_name)\n",
    "\n",
    "kaggle_test_ids = np.array(df[id_name])\n",
    "\n",
    "df = df.drop([id_name],axis=1) \n",
    "print(df.head())\n",
    "print(df.shape)\n",
    "\n",
    "df.to_csv(kaggle_test_file_name, index=False)"
   ]
  },
  {
   "cell_type": "code",
   "execution_count": 14,
   "metadata": {},
   "outputs": [],
   "source": [
    "f = open(kaggle_test_file_name)\n",
    "count = 0\n",
    "kaggle_pred = []\n",
    "\n",
    "for line in f:\n",
    "    if count == 0:\n",
    "        count = 1\n",
    "        continue\n",
    "    response = sm_rt.invoke_endpoint(EndpointName=ep_name, ContentType='text/csv', Accept='text/csv', Body=line.encode('utf-8'))\n",
    "    response = response['Body'].read().decode(\"utf-8\")\n",
    "    test_id = kaggle_test_ids[count-1]\n",
    "    pred = int(response[0])\n",
    "    kaggle_pred.append([test_id, pred])\n",
    "    count = count + 1\n",
    "\n",
    "kaggle_pred_df = pd.DataFrame(kaggle_pred, columns = [id_name, target])\n",
    "\n",
    "kaggle_pred_df.to_csv(kaggle_pred_file_name, index=False)"
   ]
  },
  {
   "cell_type": "code",
   "execution_count": 21,
   "metadata": {},
   "outputs": [
    {
     "name": "stdout",
     "output_type": "stream",
     "text": [
      "   id  ACTION\n",
      "0   1       1\n",
      "1   2       1\n",
      "2   3       1\n",
      "3   4       1\n",
      "4   5       1\n",
      "(58921, 2)\n"
     ]
    }
   ],
   "source": [
    "print(kaggle_pred_df.head())\n",
    "print(kaggle_pred_df.shape)"
   ]
  },
  {
   "cell_type": "code",
   "execution_count": 22,
   "metadata": {},
   "outputs": [
    {
     "data": {
      "text/plain": [
       "{'ResponseMetadata': {'RequestId': '3adbc464-12f4-4c5b-af4a-1bad8f737f35',\n",
       "  'HTTPStatusCode': 200,\n",
       "  'HTTPHeaders': {'x-amzn-requestid': '3adbc464-12f4-4c5b-af4a-1bad8f737f35',\n",
       "   'content-type': 'application/x-amz-json-1.1',\n",
       "   'content-length': '0',\n",
       "   'date': 'Wed, 24 Mar 2021 07:51:25 GMT'},\n",
       "  'RetryAttempts': 0}}"
      ]
     },
     "execution_count": 22,
     "metadata": {},
     "output_type": "execute_result"
    }
   ],
   "source": [
    "import boto3\n",
    "sm = boto3.client('sagemaker')\n",
    "#sm.delete_endpoint_config(EndpointConfigName=endpoint_config_name)\n",
    "sm.delete_endpoint(EndpointName=ep_name)"
   ]
  },
  {
   "cell_type": "code",
   "execution_count": null,
   "metadata": {},
   "outputs": [],
   "source": []
  }
 ],
 "metadata": {
  "instance_type": "ml.t3.medium",
  "kernelspec": {
   "display_name": "Python 3 (Data Science)",
   "language": "python",
   "name": "python3__SAGEMAKER_INTERNAL__arn:aws:sagemaker:eu-central-1:936697816551:image/datascience-1.0"
  },
  "language_info": {
   "codemirror_mode": {
    "name": "ipython",
    "version": 3
   },
   "file_extension": ".py",
   "mimetype": "text/x-python",
   "name": "python",
   "nbconvert_exporter": "python",
   "pygments_lexer": "ipython3",
   "version": "3.7.10"
  }
 },
 "nbformat": 4,
 "nbformat_minor": 4
}
