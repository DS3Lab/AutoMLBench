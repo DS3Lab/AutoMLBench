{
 "cells": [
  {
   "cell_type": "code",
   "execution_count": 1,
   "metadata": {},
   "outputs": [],
   "source": [
    "import sagemaker\n",
    "import boto3\n",
    "from sagemaker import get_execution_role"
   ]
  },
  {
   "cell_type": "code",
   "execution_count": 8,
   "metadata": {},
   "outputs": [],
   "source": [
    "region = boto3.Session().region_name\n",
    "sm_rt = boto3.Session().client('runtime.sagemaker', region_name=region)\n",
    "\n",
    "ep_name = 'kdd-missing-model'\n",
    "id_name = 'id'\n",
    "target = 'is_exciting_20'\n",
    "\n",
    "file_name = \"kdd-missing-test.csv\"\n",
    "test_file_name = \"KDD-missing-test-no-label.csv\"\n",
    "\n",
    "kaggle_file_name = \"\"\n",
    "kaggle_test_file_name = \"\"\n",
    "kaggle_pred_file_name = \"\""
   ]
  },
  {
   "cell_type": "code",
   "execution_count": 9,
   "metadata": {},
   "outputs": [
    {
     "name": "stdout",
     "output_type": "stream",
     "text": [
      "  secondary_focus_subject primary_focus_subject  school_latitude    cost  \\\n",
      "0    Literature & Writing              Literacy        34.922909  226.19   \n",
      "1           Special Needs           Visual Arts        63.327567  398.29   \n",
      "2                     NaN              Literacy        37.640102  749.95   \n",
      "3         Extracurricular         Special Needs        40.814871  301.93   \n",
      "4                     NaN         Special Needs        44.094439  476.11   \n",
      "\n",
      "   school_longitude  Vol_teacher_acctid resource_type  \\\n",
      "0        -86.712257                   1    Technology   \n",
      "1       -142.987579                   3      Supplies   \n",
      "2       -118.960945                   6    Technology   \n",
      "3        -73.905355                   2         Other   \n",
      "4        -70.206641                   7    Technology   \n",
      "\n",
      "  teacher_teach_for_america  Vol_school_city  school_zip  ...  \\\n",
      "0                         f                7           0  ...   \n",
      "1                         f                3           0  ...   \n",
      "2                         f                7           0  ...   \n",
      "3                         f             5329          73  ...   \n",
      "4                         f              191        6186  ...   \n",
      "\n",
      "   donor_state_H1_sum_gave_2_exciting  donor_state_H1_sum_donation_total  \\\n",
      "0                                  63                           41873.57   \n",
      "1                                  20                           11381.32   \n",
      "2                                2855                         1569060.25   \n",
      "3                                4069                         4058670.31   \n",
      "4                                 128                           37511.22   \n",
      "\n",
      "   donor_state_H1_mean_gave_2_exciting  donor_state_H1_mean_donation_total  \\\n",
      "0                             0.081186                           53.960786   \n",
      "1                             0.084746                           48.225932   \n",
      "2                             0.113790                           62.537276   \n",
      "3                             0.080094                           79.890367   \n",
      "4                             0.155907                           45.689671   \n",
      "\n",
      "   donor_zip_H1_nb_donations  donor_zip_H1_sum_gave_2_exciting  \\\n",
      "0                          0                                -1   \n",
      "1                          0                                -1   \n",
      "2                          0                                -1   \n",
      "3                          1                                 0   \n",
      "4                         10                                 2   \n",
      "\n",
      "   donor_zip_H1_sum_donation_total donor_zip_H1_mean_gave_2_exciting  \\\n",
      "0                            -1.00                              -1.0   \n",
      "1                            -1.00                              -1.0   \n",
      "2                            -1.00                              -1.0   \n",
      "3                            25.00                               0.0   \n",
      "4                           205.96                               0.2   \n",
      "\n",
      "   donor_zip_H1_mean_donation_total  date_posted  \n",
      "0                            -1.000   2013-08-08  \n",
      "1                            -1.000   2013-05-05  \n",
      "2                            -1.000   2013-05-26  \n",
      "3                            25.000   2013-04-23  \n",
      "4                            20.596   2013-02-20  \n",
      "\n",
      "[5 rows x 100 columns]\n",
      "(39399, 100)\n"
     ]
    }
   ],
   "source": [
    "import pandas as pd\n",
    "import numpy as np\n",
    "\n",
    "df = pd.read_csv(file_name)\n",
    "df = df.drop([target],axis=1) \n",
    "print(df.head())\n",
    "print(df.shape)\n",
    "\n",
    "df.to_csv(test_file_name, index=False)"
   ]
  },
  {
   "cell_type": "code",
   "execution_count": 11,
   "metadata": {},
   "outputs": [],
   "source": [
    "f = open(test_file_name)\n",
    "count = 0\n",
    "pred_label = []\n",
    "pred_neg_prpb = []\n",
    "pred_pos_prpb = []\n",
    "\n",
    "for line in f:\n",
    "    if count==0:\n",
    "        count=1\n",
    "        continue\n",
    "    response = sm_rt.invoke_endpoint(EndpointName=ep_name, ContentType='text/csv', Accept='text/csv', Body=line.encode('utf-8'))\n",
    "    response = response['Body'].read().decode(\"utf-8\")\n",
    "    #print(response)\n",
    "    pred_label.append(int(response[0]))\n",
    "    ind1 = response.index(\"[\")\n",
    "    ind2 = response.index(\",\", ind1)\n",
    "    neg_prob = float(response[ind1+1:ind2])\n",
    "    #print(neg_prob)\n",
    "    pred_neg_prpb.append(neg_prob)\n",
    "    ind1 = response.index(\"]\", ind2)\n",
    "    pos_prob = float(response[ind2+2:ind1])\n",
    "    #print(pos_prob)\n",
    "    pred_pos_prpb.append(pos_prob)\n",
    "    count = count + 1\n"
   ]
  },
  {
   "cell_type": "code",
   "execution_count": 13,
   "metadata": {},
   "outputs": [
    {
     "name": "stdout",
     "output_type": "stream",
     "text": [
      "[1, 1, 0, 1, 0, 1, 0, 0, 0, 0, 0, 0, 0, 0, 0, 0, 1, 0, 1, 0]\n",
      "[0.4833853244781494, 0.49245959520339966, 0.785319983959198, 0.47368091344833374, 0.7433342933654785, 0.44757533073425293, 0.7421001195907593, 0.6170697510242462, 0.8312297761440277, 0.5649320483207703, 0.7586535513401031, 0.626697838306427, 0.7636849880218506, 0.5302917063236237, 0.6658933460712433, 0.633270651102066, 0.32318103313446045, 0.5592995882034302, 0.4304666519165039, 0.9085303246974945]\n",
      "[0.5166146755218506, 0.5075404047966003, 0.214680016040802, 0.5263190865516663, 0.2566657066345215, 0.5524246692657471, 0.2578998804092407, 0.3829302489757538, 0.1687702238559723, 0.43506795167922974, 0.24134644865989685, 0.373302161693573, 0.23631501197814941, 0.46970829367637634, 0.3341066539287567, 0.36672934889793396, 0.6768189668655396, 0.4407004117965698, 0.5695333480834961, 0.0914696753025055]\n",
      "test accuracy = 0.7109317495367903\n",
      "test auc = 0.7144683065669621\n"
     ]
    }
   ],
   "source": [
    "print(pred_label[:20])\n",
    "print(pred_neg_prpb[:20])\n",
    "print(pred_pos_prpb[:20])\n",
    "\n",
    "\n",
    "import pandas as pd\n",
    "import numpy as np\n",
    "pd = pd.read_csv(file_name)\n",
    "y_true = np.array(pd[target])\n",
    "y_pred = np.array(pred_label)\n",
    "print(\"test accuracy = {}\".format(np.mean(y_true==y_pred)))\n",
    "\n",
    "from sklearn import metrics\n",
    "fpr, tpr, thresholds = metrics.roc_curve(y_true, pred_pos_prpb, pos_label=1)\n",
    "print(\"test auc = {}\".format(metrics.auc(fpr, tpr)))"
   ]
  },
  {
   "cell_type": "code",
   "execution_count": 12,
   "metadata": {},
   "outputs": [
    {
     "name": "stdout",
     "output_type": "stream",
     "text": [
      "   RESOURCE  MGR_ID  ROLE_ROLLUP_1  ROLE_ROLLUP_2  ROLE_DEPTNAME  ROLE_TITLE  \\\n",
      "0     78766   72734         118079         118080         117878      117879   \n",
      "1     40644    4378         117961         118327         118507      118863   \n",
      "2     75443    2395         117961         118300         119488      118172   \n",
      "3     43219   19986         117961         118225         118403      120773   \n",
      "4     42093   50015         117961         118343         119598      118422   \n",
      "\n",
      "   ROLE_FAMILY_DESC  ROLE_FAMILY  ROLE_CODE  \n",
      "0            118177        19721     117880  \n",
      "1            122008       118398     118865  \n",
      "2            301534       249618     118175  \n",
      "3            136187       118960     120774  \n",
      "4            300136       118424     118425  \n",
      "(58921, 9)\n"
     ]
    }
   ],
   "source": [
    "import pandas as pd\n",
    "import numpy as np\n",
    "\n",
    "df = pd.read_csv(kaggle_file_name)\n",
    "\n",
    "kaggle_test_ids = np.array(df[id_name])\n",
    "\n",
    "df = df.drop([id_name],axis=1) \n",
    "print(df.head())\n",
    "print(df.shape)\n",
    "\n",
    "df.to_csv(kaggle_test_file_name, index=False)"
   ]
  },
  {
   "cell_type": "code",
   "execution_count": 14,
   "metadata": {},
   "outputs": [],
   "source": [
    "f = open(kaggle_test_file_name)\n",
    "count = 0\n",
    "kaggle_pred = []\n",
    "\n",
    "for line in f:\n",
    "    if count == 0:\n",
    "        count = 1\n",
    "        continue\n",
    "    response = sm_rt.invoke_endpoint(EndpointName=ep_name, ContentType='text/csv', Accept='text/csv', Body=line.encode('utf-8'))\n",
    "    response = response['Body'].read().decode(\"utf-8\")\n",
    "    test_id = kaggle_test_ids[count-1]\n",
    "    pred = int(response[0])\n",
    "    kaggle_pred.append([test_id, pred])\n",
    "    count = count + 1\n",
    "\n",
    "kaggle_pred_df = pd.DataFrame(kaggle_pred, columns = [id_name, target])\n",
    "\n",
    "kaggle_pred_df.to_csv(kaggle_pred_file_name, index=False)"
   ]
  },
  {
   "cell_type": "code",
   "execution_count": 21,
   "metadata": {},
   "outputs": [
    {
     "name": "stdout",
     "output_type": "stream",
     "text": [
      "   id  ACTION\n",
      "0   1       1\n",
      "1   2       1\n",
      "2   3       1\n",
      "3   4       1\n",
      "4   5       1\n",
      "(58921, 2)\n"
     ]
    }
   ],
   "source": [
    "print(kaggle_pred_df.head())\n",
    "print(kaggle_pred_df.shape)"
   ]
  },
  {
   "cell_type": "code",
   "execution_count": 22,
   "metadata": {},
   "outputs": [
    {
     "data": {
      "text/plain": [
       "{'ResponseMetadata': {'RequestId': '3adbc464-12f4-4c5b-af4a-1bad8f737f35',\n",
       "  'HTTPStatusCode': 200,\n",
       "  'HTTPHeaders': {'x-amzn-requestid': '3adbc464-12f4-4c5b-af4a-1bad8f737f35',\n",
       "   'content-type': 'application/x-amz-json-1.1',\n",
       "   'content-length': '0',\n",
       "   'date': 'Wed, 24 Mar 2021 07:51:25 GMT'},\n",
       "  'RetryAttempts': 0}}"
      ]
     },
     "execution_count": 22,
     "metadata": {},
     "output_type": "execute_result"
    }
   ],
   "source": [
    "import boto3\n",
    "sm = boto3.client('sagemaker')\n",
    "#sm.delete_endpoint_config(EndpointConfigName=endpoint_config_name)\n",
    "sm.delete_endpoint(EndpointName=ep_name)"
   ]
  },
  {
   "cell_type": "code",
   "execution_count": null,
   "metadata": {},
   "outputs": [],
   "source": []
  }
 ],
 "metadata": {
  "instance_type": "ml.t3.medium",
  "kernelspec": {
   "display_name": "Python 3 (Data Science)",
   "language": "python",
   "name": "python3__SAGEMAKER_INTERNAL__arn:aws:sagemaker:eu-central-1:936697816551:image/datascience-1.0"
  },
  "language_info": {
   "codemirror_mode": {
    "name": "ipython",
    "version": 3
   },
   "file_extension": ".py",
   "mimetype": "text/x-python",
   "name": "python",
   "nbconvert_exporter": "python",
   "pygments_lexer": "ipython3",
   "version": "3.7.10"
  }
 },
 "nbformat": 4,
 "nbformat_minor": 4
}
